{
 "cells": [
  {
   "cell_type": "code",
   "execution_count": 1,
   "id": "d5e2cb6c",
   "metadata": {},
   "outputs": [],
   "source": [
    "#%%\n",
    "import numpy as np\n",
    "from sklearn import metrics\n",
    "import numpy as np\n",
    "from tqdm import tqdm\n",
    "from typing import List\n",
    "import random\n",
    "from shared import bootstrap_auc\n",
    "import matplotlib.pyplot as plt\n",
    "\n",
    "import torch\n",
    "from torch import nn, optim"
   ]
  },
  {
   "cell_type": "code",
   "execution_count": 2,
   "id": "1fbec573",
   "metadata": {},
   "outputs": [
    {
     "data": {
      "text/plain": [
       "<torch._C.Generator at 0x7f87d3f9d6a8>"
      ]
     },
     "execution_count": 2,
     "metadata": {},
     "output_type": "execute_result"
    }
   ],
   "source": [
    "# start off by seeding random number generators:\n",
    "RANDOM_SEED = 12345\n",
    "random.seed(RANDOM_SEED)\n",
    "np.random.seed(RANDOM_SEED)\n",
    "torch.manual_seed(RANDOM_SEED)"
   ]
  },
  {
   "cell_type": "code",
   "execution_count": 3,
   "id": "1d68ed79",
   "metadata": {},
   "outputs": [],
   "source": [
    "# import data; choose feature space\n",
    "from dataset_poetry import y_train, Xd_train, y_vali, Xd_vali\n",
    "\n",
    "X_train = Xd_train[\"numeric\"]\n",
    "X_vali = Xd_vali[\"numeric\"]"
   ]
  },
  {
   "cell_type": "code",
   "execution_count": 4,
   "id": "7c05a974",
   "metadata": {},
   "outputs": [
    {
     "name": "stdout",
     "output_type": "stream",
     "text": [
      "skLearn-LR AUC: 0.975\n",
      "skLearn-LR Acc: 0.929\n"
     ]
    }
   ],
   "source": [
    "#%%\n",
    "from sklearn.linear_model import LogisticRegression\n",
    "\n",
    "m = LogisticRegression(random_state=RANDOM_SEED, penalty=\"none\", max_iter=2000)\n",
    "m.fit(X_train, y_train)\n",
    "\n",
    "print(\"skLearn-LR AUC: {:.3}\".format(np.mean(bootstrap_auc(m, X_vali, y_vali))))\n",
    "print(\"skLearn-LR Acc: {:.3}\".format(m.score(X_vali, y_vali)))"
   ]
  },
  {
   "cell_type": "code",
   "execution_count": 5,
   "id": "7821c929",
   "metadata": {},
   "outputs": [],
   "source": [
    "def nearly_eq(x, y, tolerance=1e-6):\n",
    "    return abs(x - y) < tolerance\n",
    "\n",
    "\n",
    "#%%\n",
    "\n",
    "\n",
    "(N, D) = X_train.shape\n",
    "\n",
    "X = torch.from_numpy(X_train).float()\n",
    "y = torch.from_numpy(y_train).long()\n",
    "Xv = torch.from_numpy(X_vali).float()\n",
    "yv = torch.from_numpy(y_vali).long()\n",
    "\n",
    "\n",
    "def train(name: str, model, optimizer, objective, max_iter=2000):\n",
    "    train_losses = []\n",
    "    vali_losses = []\n",
    "    samples = []\n",
    "    for it in tqdm(range(max_iter)):\n",
    "        model.train()\n",
    "\n",
    "        # Perform one step of training:\n",
    "        optimizer.zero_grad()\n",
    "        loss = objective(model(X), y)\n",
    "        loss.backward()\n",
    "        optimizer.step()\n",
    "\n",
    "        # every 25 steps, sample validation performance.\n",
    "        if it % 25 == 0:\n",
    "            model.eval()\n",
    "            y_probs = model(X).detach().numpy()\n",
    "            vali_loss = objective(model(Xv), yv)\n",
    "            train_losses.append(loss.item())\n",
    "            vali_losses.append(vali_loss.item())\n",
    "            samples.append(it)\n",
    "    model.eval()\n",
    "\n",
    "    # Predict on the Validation Set\n",
    "    y_probs = model(Xv).detach().numpy()\n",
    "    y_pred = (y_probs[:, 1] > 0.5).ravel()\n",
    "    print(\n",
    "        \"Validation. Acc: {:.3} Auc: {:.3}\".format(\n",
    "            metrics.accuracy_score(yv, y_pred),\n",
    "            metrics.roc_auc_score(yv, y_probs[:, 1].ravel()),\n",
    "        )\n",
    "    )\n",
    "\n",
    "    plt.plot(samples, train_losses, label=\"Training Loss\", alpha=0.7)\n",
    "    plt.plot(samples, vali_losses, label=\"Validation Loss\", alpha=0.7)\n",
    "    plt.title(\"{} Training Loss\".format(name))\n",
    "    plt.xlabel(\"Iteration\")\n",
    "    plt.ylabel(\"Loss\")\n",
    "    plt.legend()\n",
    "    plt.tight_layout()\n",
    "    plt.savefig(\"graphs/p13-{}-loss.png\".format(name))\n",
    "    plt.show()\n",
    "\n",
    "    return model"
   ]
  },
  {
   "cell_type": "code",
   "execution_count": 6,
   "id": "3d690237",
   "metadata": {},
   "outputs": [
    {
     "name": "stderr",
     "output_type": "stream",
     "text": [
      "100%|██████████| 2000/2000 [00:01<00:00, 1365.75it/s]\n"
     ]
    },
    {
     "name": "stdout",
     "output_type": "stream",
     "text": [
      "Validation. Acc: 0.927 Auc: 0.972\n"
     ]
    },
    {
     "data": {
      "image/png": "[encoded data removed]",
      "text/plain": [
       "<Figure size 432x288 with 1 Axes>"
      ]
     },
     "metadata": {
      "needs_background": "light"
     },
     "output_type": "display_data"
    },
    {
     "data": {
      "text/plain": [
       "Linear(in_features=38, out_features=2, bias=True)"
      ]
     },
     "execution_count": 6,
     "metadata": {},
     "output_type": "execute_result"
    }
   ],
   "source": [
    "# Actually train a LogisticRegression; just one 'Linear' layer.\n",
    "n_classes = len([0, 1])\n",
    "model = nn.Linear(D, n_classes, bias=True)\n",
    "objective = nn.CrossEntropyLoss()\n",
    "optimizer = optim.SGD(model.parameters(), lr=0.1, momentum=0.9)\n",
    "\n",
    "train(\"logistic-regression\", model, optimizer, objective)"
   ]
  },
  {
   "cell_type": "code",
   "execution_count": 7,
   "id": "51b62f50",
   "metadata": {},
   "outputs": [],
   "source": [
    "def make_neural_net(D: int, hidden: List[int], num_classes: int = 2, dropout=0.2):\n",
    "    \"\"\" Using nn.Sequential; construct a list of layers that make this a neural-network. \"\"\"\n",
    "    layers = []\n",
    "    for i, dim in enumerate(hidden):\n",
    "        if i == 0:\n",
    "            layers.append(nn.Linear(D, dim))\n",
    "            layers.append(nn.Dropout(p=DROPOUT))\n",
    "            layers.append(nn.ReLU())\n",
    "        else:\n",
    "            layers.append(nn.Linear(hidden[i - 1], dim))\n",
    "            layers.append(nn.Dropout(p=DROPOUT))\n",
    "            layers.append(nn.ReLU())\n",
    "    layers.append(nn.Linear(hidden[-1], num_classes))\n",
    "    return nn.Sequential(*layers)"
   ]
  },
  {
   "cell_type": "markdown",
   "id": "d4faf3db",
   "metadata": {},
   "source": [
    "### Lab TODO:\n",
    "### 0. In this version; consider commenting out other calls to train/fit!"
   ]
  },
  {
   "cell_type": "markdown",
   "id": "cd399721",
   "metadata": {},
   "source": [
    "### 1. Investigate LEARNING_RATE, DROPOUT, MOMENTUM, REGULARIZATION."
   ]
  },
  {
   "cell_type": "markdown",
   "id": "67f964a2",
   "metadata": {},
   "source": [
    "LEARNING_RATE = 0.1  \n",
    "DROPOUT = 0.1  # randomly turn off this fraction of the neural-net while training.  \n",
    "MOMENTUM = 0.9  \n",
    "REGULARIZATION = 0.01   \n",
    "\n",
    "achieved: Validation. Acc: 0.927 Auc: 0.973  \n",
    "and converged in the fewest iterations  \n",
    "learning rate of 1 was too large it definitely was missing the global minimum     \n"
   ]
  },
  {
   "cell_type": "markdown",
   "id": "fb2f9ba1",
   "metadata": {},
   "source": [
    "### 2. What do you think these variables change?"
   ]
  },
  {
   "cell_type": "markdown",
   "id": "11243e2f",
   "metadata": {},
   "source": [
    "Learning rate - \n",
    "The amount that the weights are updated during training is referred to as the step size or the “learning rate.”\n",
    "The learning rate controls how quickly the model is adapted to the problem. Smaller learning rates require more training epochs given the smaller changes made to the weights each update, whereas larger learning rates result in rapid changes and require fewer training epochs.  \n",
    "\n",
    "Dropout - A single model can be used to simulate having a large number of different network architectures by randomly dropping out nodes during training. This is called dropout and offers a very computationally cheap and remarkably effective regularization method to reduce overfitting and improve generalization error in deep neural networks of all kinds.  \n",
    " \n",
    "Momentum - replaces the current gradient with m (“momentum”), which is an aggregate of gradients. This aggregate is the exponential moving average of current and past gradients (i.e. up to time t).\n",
    "If the momentum term is large then the learning rate should be kept smaller. A large value of momentum also means that the convergence will happen fast. But if both the momentum and learning rate are kept at large values, then you might skip the minimum with a huge step.  \n",
    "\n",
    "regularization - neural networks are easily overfit. regularization makes it so neural networks generalize better  "
   ]
  },
  {
   "cell_type": "markdown",
   "id": "1d732087",
   "metadata": {},
   "source": [
    "### 3. Consider a shallower, wider network.\n",
    "###    - Changing [16,16] to something else... might require revisiting step 1.\n"
   ]
  },
  {
   "cell_type": "markdown",
   "id": "4a9cbfb9",
   "metadata": {},
   "source": [
    "Comparison   \n",
    "LEARNING_RATE = 0.1  \n",
    "DROPOUT = 0.1 # randomly turn off this fraction of the neural-net while training.  \n",
    "MOMENTUM = 0.9   \n",
    "REGULARIZATION = 0.01  \n",
    "[16,16]  \n",
    "achieved: Validation. Acc: 0.927 Auc: 0.973  \n",
    "\n",
    "\n",
    "shallower network -   \n",
    "[1,1] - accuracy decreased to 0.683  \n",
    "[2,2] - accuracy decreased to .683 auc decreased a little bit  \n",
    "[5,5] - didn't make much of a difference\n",
    "[10,10] - didn't make much of a difference  \n",
    "\n",
    "wider -  \n",
    "[20,20] - didn't make much of a difference  \n",
    "[100,100] didn't make much of a difference  \n"
   ]
  },
  {
   "cell_type": "code",
   "execution_count": 52,
   "id": "f4673a6b",
   "metadata": {},
   "outputs": [
    {
     "name": "stderr",
     "output_type": "stream",
     "text": [
      "100%|██████████| 1000/1000 [00:01<00:00, 791.83it/s]\n"
     ]
    },
    {
     "name": "stdout",
     "output_type": "stream",
     "text": [
      "Validation. Acc: 0.929 Auc: 0.973\n"
     ]
    },
    {
     "data": {
      "image/png": "[encoded data removed]",
      "text/plain": [
       "<Figure size 432x288 with 1 Axes>"
      ]
     },
     "metadata": {
      "needs_background": "light"
     },
     "output_type": "display_data"
    },
    {
     "data": {
      "text/plain": [
       "Sequential(\n",
       "  (0): Linear(in_features=38, out_features=5, bias=True)\n",
       "  (1): Dropout(p=0.1, inplace=False)\n",
       "  (2): ReLU()\n",
       "  (3): Linear(in_features=5, out_features=5, bias=True)\n",
       "  (4): Dropout(p=0.1, inplace=False)\n",
       "  (5): ReLU()\n",
       "  (6): Linear(in_features=5, out_features=2, bias=True)\n",
       ")"
      ]
     },
     "execution_count": 52,
     "metadata": {},
     "output_type": "execute_result"
    }
   ],
   "source": [
    "LEARNING_RATE = 0.1\n",
    "DROPOUT = 0.1  # randomly turn off this fraction of the neural-net while training.\n",
    "MOMENTUM = 0.9\n",
    "REGULARIZATION = 0.01  # try 0.1, 0.01, etc.\n",
    "\n",
    "# two hidden layers, 16 nodes, each.\n",
    "model = make_neural_net(D, [5, 5], dropout=DROPOUT)\n",
    "objective = nn.CrossEntropyLoss()\n",
    "optimizer = optim.SGD(\n",
    "    model.parameters(), lr=LEARNING_RATE, momentum=MOMENTUM, weight_decay=REGULARIZATION\n",
    ")\n",
    "\n",
    "train(\"neural_net\", model, optimizer, objective, max_iter=1000)"
   ]
  },
  {
   "cell_type": "code",
   "execution_count": null,
   "id": "54f2ed74",
   "metadata": {},
   "outputs": [],
   "source": []
  }
 ],
 "metadata": {
  "kernelspec": {
   "display_name": "Python 3",
   "language": "python",
   "name": "python3"
  },
  "language_info": {
   "codemirror_mode": {
    "name": "ipython",
    "version": 3
   },
   "file_extension": ".py",
   "mimetype": "text/x-python",
   "name": "python",
   "nbconvert_exporter": "python",
   "pygments_lexer": "ipython3",
   "version": "3.7.3"
  }
 },
 "nbformat": 4,
 "nbformat_minor": 5
}
