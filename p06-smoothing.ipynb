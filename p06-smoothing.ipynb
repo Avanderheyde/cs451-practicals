{
 "cells": [
  {
   "cell_type": "code",
   "execution_count": 114,
   "metadata": {},
   "outputs": [],
   "source": [
    "from sklearn.model_selection import train_test_split\n",
    "from sklearn.metrics import roc_auc_score\n",
    "from sklearn.utils import resample\n",
    "import math"
   ]
  },
  {
   "cell_type": "code",
   "execution_count": 115,
   "metadata": {},
   "outputs": [],
   "source": [
    "# my helpers!\n",
    "from shared import (\n",
    "    dataset_local_path,\n",
    "    bootstrap_auc,\n",
    "    simple_boxplot,\n",
    ")\n",
    "\n",
    "# stdlib:\n",
    "from dataclasses import dataclass, field\n",
    "import json, gzip\n",
    "from typing import Dict, List"
   ]
  },
  {
   "cell_type": "code",
   "execution_count": 116,
   "metadata": {},
   "outputs": [],
   "source": [
    "#%% load up the data\n",
    "# Try 'POETRY'\n",
    "dataset = \"POETRY\"\n",
    "examples: List[str] = []\n",
    "ys: List[bool] = []\n",
    "\n",
    "if dataset == \"WIKI\":\n",
    "    with gzip.open(dataset_local_path(\"lit-wiki-2020.jsonl.gz\"), \"rt\") as fp:\n",
    "        for line in fp:\n",
    "            info = json.loads(line)\n",
    "            # Note: the data contains a whole bunch of extra stuff; we just want numeric features for now.\n",
    "            keep = info[\"body\"]\n",
    "            # whether or not it's poetry is our label.\n",
    "            ys.append(info[\"truth_value\"])\n",
    "            # hold onto this single dictionary.\n",
    "            examples.append(keep)\n",
    "else:\n",
    "    # take only one per book!\n",
    "    by_book = {}\n",
    "    with open(dataset_local_path(\"poetry_id.jsonl\")) as fp:\n",
    "        for line in fp:\n",
    "            info = json.loads(line)\n",
    "            # dictionary keeps this key unique:\n",
    "            by_book[info[\"book\"]] = info\n",
    "    # now extract only one page per book here:\n",
    "    for info in by_book.values():\n",
    "        # Note: the data contains a whole bunch of extra stuff; we just want numeric features for now.\n",
    "        keep = info[\"words\"]\n",
    "        # whether or not it's poetry is our label.\n",
    "        ys.append(info[\"poetry\"])\n",
    "        # hold onto this single dictionary.\n",
    "        examples.append(keep)"
   ]
  },
  {
   "cell_type": "code",
   "execution_count": 117,
   "metadata": {},
   "outputs": [],
   "source": [
    "#%% Split data:\n",
    "\n",
    "RANDOM_SEED = 1234\n",
    "\n",
    "## split off train/validate (tv) pieces.\n",
    "ex_tv, ex_test, y_tv, y_test = train_test_split(\n",
    "    examples,\n",
    "    ys,\n",
    "    train_size=0.75,\n",
    "    shuffle=True,\n",
    "    random_state=RANDOM_SEED,\n",
    ")\n",
    "# split off train, validate from (tv) pieces.\n",
    "ex_train, ex_vali, y_train, y_vali = train_test_split(\n",
    "    ex_tv, y_tv, train_size=0.66, shuffle=True, random_state=RANDOM_SEED\n",
    ")"
   ]
  },
  {
   "cell_type": "code",
   "execution_count": 118,
   "metadata": {},
   "outputs": [
    {
     "name": "stdout",
     "output_type": "stream",
     "text": [
      "(680, 156207) (351, 156207) (344, 156207)\n"
     ]
    }
   ],
   "source": [
    "#%% Analyze Text\n",
    "\n",
    "from sklearn.feature_extraction.text import CountVectorizer\n",
    "\n",
    "\n",
    "# Note we're doing \"CountVectorizer\" here and not TfidfVectorizer. Hmm...\n",
    "word_features = CountVectorizer(\n",
    "    strip_accents=\"unicode\",\n",
    "    lowercase=True,\n",
    "    ngram_range=(1, 2),\n",
    ")\n",
    "\n",
    "#The lower and upper boundary of the range of n-values for \n",
    "#different word n-grams or char n-grams to be extracted. \n",
    "#All values of n such such that min_n <= n <= max_n will be used. \n",
    "#For example an ngram_range of (1, 1) means only unigrams, \n",
    "#(1, 2) means unigrams and bigrams, and (2, 2) means only bigrams. Only applies if analyzer is not callable.\n",
    "\n",
    "# How does it take a whole paragraph and turn it into words?\n",
    "text_to_words = word_features.build_analyzer()\n",
    "# text_to_words is a function (str) -> List[str]\n",
    "# assert text_to_words(\"Hello world!\") == [\"hello\", \"world\"]\n",
    "\n",
    "# Learn columns from training data (again)\n",
    "word_features.fit(ex_train)\n",
    "# Translate our list of texts -> matrices of counts\n",
    "X_train = word_features.transform(ex_train)\n",
    "X_vali = word_features.transform(ex_vali)\n",
    "X_test = word_features.transform(ex_test)\n",
    "\n",
    "print(X_train.shape, X_vali.shape, X_test.shape)"
   ]
  },
  {
   "cell_type": "code",
   "execution_count": 119,
   "metadata": {},
   "outputs": [],
   "source": [
    "#%% Accumulate results here; to be box-plotted.\n",
    "results: Dict[str, List[float]] = {}"
   ]
  },
  {
   "cell_type": "code",
   "execution_count": 120,
   "metadata": {},
   "outputs": [
    {
     "name": "stdout",
     "output_type": "stream",
     "text": [
      "Alpha -  0.1\n",
      "Accuracy: 0.906, AUC: 0.933\n",
      "What I called log(beta)=-1.4851401957565225\n",
      "Alpha -  1\n",
      "Accuracy: 0.855, AUC: 0.869\n",
      "What I called log(beta)=-1.4851401957565225\n",
      "Alpha -  10\n",
      "Accuracy: 0.769, AUC: 0.677\n",
      "What I called log(beta)=-1.4851401957565225\n",
      "Alpha -  100\n",
      "Accuracy: 0.769, AUC: 0.608\n",
      "What I called log(beta)=-1.4851401957565225\n",
      "Alpha -  1000\n",
      "Accuracy: 0.769, AUC: 0.576\n",
      "What I called log(beta)=-1.4851401957565225\n"
     ]
    }
   ],
   "source": [
    "#%% try sklearn MultinomialNB:\n",
    "\n",
    "## SKLearn has it's own Multinomial Naive Bayes,\n",
    "#  and it uses the alpha / additive smoothing to deal with zeros!\n",
    "from sklearn.naive_bayes import MultinomialNB\n",
    "\n",
    "# Try a couple alpha values (what to do with zero-prob words!)\n",
    "# Alpha can really be anything positive!\n",
    "for alpha in [0.1,1,10,100,1000]:\n",
    "    m = MultinomialNB(alpha=alpha)\n",
    "    m.fit(X_train, y_train)\n",
    "    scores = m.predict_proba(X_vali)[:, 1]\n",
    "    print(\"Alpha - \", alpha)\n",
    "    print(\n",
    "        \"Accuracy: {:.3}, AUC: {:.3}\".format(\n",
    "            m.score(X_vali, y_vali), roc_auc_score(y_score=scores, y_true=y_vali)\n",
    "        )\n",
    "    )\n",
    "    print(\"What I called log(beta)={}\".format(m.class_log_prior_[1]))\n",
    "    results[\"MNB(alpha={})\".format(alpha)] = bootstrap_auc(m, X_vali, y_vali)"
   ]
  },
  {
   "cell_type": "code",
   "execution_count": 121,
   "metadata": {},
   "outputs": [
    {
     "name": "stdout",
     "output_type": "stream",
     "text": [
      "positive-size: 84984\n",
      "rand-size: 393281\n"
     ]
    }
   ],
   "source": [
    "#%% Showcase linar smoothing:\n",
    "\n",
    "from collections import Counter\n",
    "import typing\n",
    "\n",
    "\n",
    "@dataclass\n",
    "class CountLanguageModel:\n",
    "    \"\"\" The number of times each word has been observed. \"\"\"\n",
    "\n",
    "    counts: typing.Counter[str] = field(default_factory=Counter)\n",
    "    \"\"\" The total number of observed words (any word)\"\"\"\n",
    "    total: int = 0\n",
    "    # Don't need an alpha\n",
    "\n",
    "    def add_example(self, words: List[str]) -> None:\n",
    "        for word in words:\n",
    "            self.counts[word] += 1\n",
    "        self.total += len(words)\n",
    "\n",
    "    def prob(self, word: str) -> float:\n",
    "        return self.counts[word] / self.total\n",
    "\n",
    "\n",
    "# Make one of these for the positive class:\n",
    "is_positive = CountLanguageModel()\n",
    "# Make one of these for ALL documents.\n",
    "is_random = CountLanguageModel()\n",
    "\n",
    "# Train these two model pieces:\n",
    "for y, ex in zip(y_train, ex_train):\n",
    "    words = text_to_words(ex)\n",
    "    # with linear smoothing, everything goes in random (positive OR negative)\n",
    "    is_random.add_example(words)\n",
    "    # but only positive go in positive:\n",
    "    if y:\n",
    "        is_positive.add_example(words)\n",
    "\n",
    "print(\"positive-size: {}\".format(is_positive.total))\n",
    "print(\"rand-size: {}\".format(is_random.total))"
   ]
  },
  {
   "cell_type": "code",
   "execution_count": 122,
   "metadata": {},
   "outputs": [
    {
     "name": "stdout",
     "output_type": "stream",
     "text": [
      "Linear[0.01] AUC=0.947\n",
      "Linear[0.5] AUC=0.943\n",
      "Linear[0.99] AUC=0.852\n"
     ]
    }
   ],
   "source": [
    "def score_words(\n",
    "    words: List[str],\n",
    "    linear: float,\n",
    "    positive: CountLanguageModel,\n",
    "    background: CountLanguageModel,\n",
    ") -> float:\n",
    "    score = 0.0\n",
    "    # Compute log-product of word-probabilities:\n",
    "    for word in words:\n",
    "        # prob-yes!\n",
    "        prob_positive = positive.prob(word)\n",
    "        # prob-no!\n",
    "        prob_negative = background.prob(word)\n",
    "        # words that are only in vali/test:\n",
    "        if prob_positive == 0.0 and prob_negative == 0.0:\n",
    "            continue\n",
    "\n",
    "        # mix the positive and negative together (to avoid prob_positive being a zero)\n",
    "        smoothed_positive = (prob_positive * linear) + (prob_negative * (1 - linear))\n",
    "        # multiply up P(yes) / P(no) but logged!\n",
    "        score += math.log(smoothed_positive) - math.log(prob_negative)\n",
    "    return score\n",
    "\n",
    "\n",
    "#\n",
    "# The linear parameter is traditionally a non-zero, non-one probability:\n",
    "#     (0 < linear < 1)\n",
    "for linear in [0.01, 0.5, 0.99]:\n",
    "    scores = []\n",
    "    for ex in ex_vali:\n",
    "        score = score_words(text_to_words(ex), linear, is_positive, is_random)\n",
    "        scores.append(score)\n",
    "\n",
    "    # Note that there's no accuracy because I haven't figured out beta...\n",
    "    print(\n",
    "        \"Linear[{}] AUC={:.3}\".format(\n",
    "            linear, roc_auc_score(y_score=scores, y_true=y_vali)\n",
    "        )\n",
    "    )\n",
    "    # bootstrap AUC: (doing this manually because the helper function doesn't accept scores out of nowhere!)\n",
    "    dist = []\n",
    "    # do the bootstrap:\n",
    "    for trial in range(100):\n",
    "        sample_pred, sample_truth = resample(\n",
    "            scores, y_vali, random_state=trial + RANDOM_SEED\n",
    "        )  # type:ignore\n",
    "        score = roc_auc_score(y_true=sample_truth, y_score=sample_pred)  # type:ignore\n",
    "        dist.append(score)\n",
    "    results[\"Linear[{}]\".format(linear)] = dist"
   ]
  },
  {
   "cell_type": "code",
   "execution_count": 123,
   "metadata": {},
   "outputs": [
    {
     "data": {
      "image/png": "[encoded data removed]",
      "text/plain": [
       "<Figure size 432x288 with 1 Axes>"
      ]
     },
     "metadata": {
      "needs_background": "light"
     },
     "output_type": "display_data"
    },
    {
     "data": {
      "text/plain": [
       "<module 'matplotlib.pyplot' from '/Users/Alderik/anaconda3/lib/python3.7/site-packages/matplotlib/pyplot.py'>"
      ]
     },
     "execution_count": 123,
     "metadata": {},
     "output_type": "execute_result"
    }
   ],
   "source": [
    "#%% Boxplot all AUC results:\n",
    "simple_boxplot(results, ylabel=\"AUC\", save=\"{}-text-AUC.png\".format(dataset))"
   ]
  },
  {
   "cell_type": "markdown",
   "metadata": {},
   "source": [
    "### 1. Explore alpha and linear parameters; make a decision about what a good choice for this dataset might be."
   ]
  },
  {
   "cell_type": "markdown",
   "metadata": {},
   "source": [
    "Alpha of .1 and linear parameter of 0.01 were the best from my test"
   ]
  },
  {
   "cell_type": "markdown",
   "metadata": {},
   "source": [
    "# 2 is once again a choose-your-own:\n",
    "\n",
    "### 2A. Explore ngrams, lowercase v. uppercase, etc. (how changing CountVectorizer changes performance, or not)"
   ]
  },
  {
   "cell_type": "markdown",
   "metadata": {},
   "source": [
    "Unigrams & Bigrams improved performance (1,2) compared to only Unigrams (1,1)   \n",
    "Only bigrams (2,2) decreased performance compared only unigrams (1,1) and (1,2)"
   ]
  },
  {
   "cell_type": "markdown",
   "metadata": {},
   "source": [
    "### 2B. Explore the difference between today's approaches to the WIKI dataset and yesterday's."
   ]
  },
  {
   "cell_type": "markdown",
   "metadata": {},
   "source": [
    "p05 used TFIDFVectorizer instead of p06 using CountVectorizer   \n",
    "p05 used many different linear models and tree models, p06 we use a Multinomial Naive Bayes"
   ]
  },
  {
   "cell_type": "markdown",
   "metadata": {},
   "source": [
    "### 2C. Explore the differences between the WIKI dataset and the POETRY dataset."
   ]
  },
  {
   "cell_type": "markdown",
   "metadata": {},
   "source": [
    "With the optimized alpha and linear parameter, the poetry dataset gets a much higher AUC and accuracy"
   ]
  },
  {
   "cell_type": "code",
   "execution_count": null,
   "metadata": {},
   "outputs": [],
   "source": []
  }
 ],
 "metadata": {
  "kernelspec": {
   "display_name": "Python 3",
   "language": "python",
   "name": "python3"
  },
  "language_info": {
   "codemirror_mode": {
    "name": "ipython",
    "version": 3
   },
   "file_extension": ".py",
   "mimetype": "text/x-python",
   "name": "python",
   "nbconvert_exporter": "python",
   "pygments_lexer": "ipython3",
   "version": "3.7.3"
  }
 },
 "nbformat": 4,
 "nbformat_minor": 2
}
