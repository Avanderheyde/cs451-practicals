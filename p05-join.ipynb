{
 "cells": [
  {
   "cell_type": "code",
   "execution_count": 3,
   "metadata": {},
   "outputs": [],
   "source": [
    "\"\"\"\n",
    "In this lab, we once again have a mandatory 'python' challenge.\n",
    "Then we have a more open-ended Machine Learning 'see why' challenge.\n",
    "\n",
    "This data is the \"Is Wikipedia Literary\" that I pitched.\n",
    "You can contribute to science or get a sense of the data here: https://label.jjfoley.me/wiki\n",
    "\"\"\"\n",
    "\n",
    "import gzip, json\n",
    "from shared import dataset_local_path, TODO\n",
    "from dataclasses import dataclass\n",
    "from typing import Dict, List\n",
    "# new helpers:\n",
    "from shared import dataset_local_path, bootstrap_accuracy, simple_boxplot, TODO, bootstrap_auc\n",
    "from sklearn.neural_network import MLPClassifier"
   ]
  },
  {
   "cell_type": "code",
   "execution_count": 4,
   "metadata": {},
   "outputs": [],
   "source": [
    "\"\"\"\n",
    "Problem 1: We have a copy of Wikipedia (I spared you the other 6 million pages).\n",
    "It is separate from our labels we collected.\n",
    "\"\"\"\n",
    "\n",
    "\n",
    "@dataclass\n",
    "class JustWikiPage:\n",
    "    title: str\n",
    "    wiki_id: str\n",
    "    body: str\n",
    "\n",
    "\n",
    "# Load our pages into this pages list.\n",
    "pages: List[JustWikiPage] = []\n",
    "with gzip.open(dataset_local_path(\"tiny-wiki.jsonl.gz\"), \"rt\") as fp:\n",
    "    for line in fp:\n",
    "        entry = json.loads(line)\n",
    "        pages.append(JustWikiPage(**entry))\n",
    "\n",
    "\n",
    "@dataclass\n",
    "class JustWikiLabel:\n",
    "    wiki_id: str\n",
    "    is_literary: bool\n",
    "\n",
    "\n",
    "# Load our judgments/labels/truths/ys into this labels list:\n",
    "labels: List[JustWikiLabel] = []\n",
    "with open(dataset_local_path(\"tiny-wiki-labels.jsonl\")) as fp:\n",
    "    for line in fp:\n",
    "        entry = json.loads(line)\n",
    "        labels.append(\n",
    "            JustWikiLabel(wiki_id=entry[\"wiki_id\"], is_literary=entry[\"truth_value\"])\n",
    "        )\n",
    "\n",
    "\n",
    "@dataclass\n",
    "class JoinedWikiData:\n",
    "    wiki_id: str\n",
    "    is_literary: bool\n",
    "    title: str\n",
    "    body: str"
   ]
  },
  {
   "cell_type": "code",
   "execution_count": 5,
   "metadata": {},
   "outputs": [
    {
     "name": "stdout",
     "output_type": "stream",
     "text": [
      "1904 1904\n"
     ]
    }
   ],
   "source": [
    "print(len(pages), len(labels))"
   ]
  },
  {
   "cell_type": "code",
   "execution_count": 6,
   "metadata": {},
   "outputs": [
    {
     "name": "stdout",
     "output_type": "stream",
     "text": [
      "JustWikiPage(title='WTYB', wiki_id='enwiki:WTYB', body='WTYB (103.9 FM) is a radio station licensed to serve Bluffton, Georgia, United States.  The station is owned by Cumulus Broadcasting.\\n\\nIt broadcasts an Urban AC music format targeted to Savannah, Georgia.\\n\\nOriginally launched as WGEC, licensed to Springfield, Georgia, in March 1978, this station first aired an urban adult contemporary music format from 1998-2003 as WSIS \"Kiss 104\" and then as \"V103.9\".  Briefly in 2005, the station aired an Oldies format as \"Cool 103.9.\"\\n\\nThe station was assigned the WTYB call letters by the Federal Communications Commission on July 9, 2004. After stunting with Christmas music and the greatest hits of Johnny Cash, the station debuted as \"Magic 103.9\" with an Urban AC format on January 8, 2006.\\n\\nIn November 2007, Cumulus attempted to transfer ownership of WTYB to a trustee, Stratus Radio LLC, with the intention of selling it to another owner in order to meet FCC ownership caps. That deal, however, ultimately fell through and Cumulus Licensing LLC retained the broadcast license.\\n\\nIn April 2011, after the Cumulus merger with Citadel Broadcasting, it was determined that WTYB would be one of several stations spun off to Volt Radio, LLC. The station was reclaimed from the trust effective April 28, 2016.\\n\\nTYBCategory:Urban adult contemporary radio stationsCategory:Radio stations established in 1978Category:1978 establishments in Georgia (U.S. state)Category:Cumulus Media radio stations')\n"
     ]
    }
   ],
   "source": [
    "print(pages[0])"
   ]
  },
  {
   "cell_type": "code",
   "execution_count": 7,
   "metadata": {},
   "outputs": [
    {
     "name": "stdout",
     "output_type": "stream",
     "text": [
      "JustWikiLabel(wiki_id='enwiki:The%20Waiting%20(album)', is_literary=False)\n"
     ]
    }
   ],
   "source": [
    "print(labels[0])"
   ]
  },
  {
   "cell_type": "code",
   "execution_count": 8,
   "metadata": {},
   "outputs": [],
   "source": [
    "joined_data: Dict[str, JoinedWikiData] = {}"
   ]
  },
  {
   "cell_type": "markdown",
   "metadata": {},
   "source": [
    "### 1. create a list of JoinedWikiData from the ``pages`` and ``labels`` lists."
   ]
  },
  {
   "cell_type": "code",
   "execution_count": 9,
   "metadata": {},
   "outputs": [],
   "source": [
    "for p in pages:\n",
    "    joined_data[p.wiki_id] = JoinedWikiData(\n",
    "        p.wiki_id, is_literary=False, title=p.title, body=p.body\n",
    "    )\n",
    "for l in labels:\n",
    "    joined_data[l.wiki_id].is_literary = l.is_literary"
   ]
  },
  {
   "cell_type": "code",
   "execution_count": 14,
   "metadata": {},
   "outputs": [
    {
     "name": "stdout",
     "output_type": "stream",
     "text": [
      "Ready to Learn!\n",
      "SGDClassifier:\n",
      "\tVali-Acc: 0.827\n",
      "\tVali-AUC: 0.881\n",
      "Perceptron:\n",
      "\tVali-Acc: 0.813\n",
      "\tVali-AUC: 0.853\n",
      "LogisticRegression:\n",
      "\tVali-Acc: 0.79\n",
      "\tVali-AUC: 0.88\n"
     ]
    },
    {
     "name": "stderr",
     "output_type": "stream",
     "text": [
      "/Users/Alderik/anaconda3/lib/python3.7/site-packages/sklearn/linear_model/logistic.py:432: FutureWarning: Default solver will be changed to 'lbfgs' in 0.22. Specify a solver to silence this warning.\n",
      "  FutureWarning)\n"
     ]
    },
    {
     "name": "stdout",
     "output_type": "stream",
     "text": [
      "DTree:\n",
      "\tVali-Acc: 0.747\n",
      "\tVali-AUC: 0.718\n",
      "RandomForest:\n",
      "\tVali-Acc: 0.802\n",
      "\tVali-AUC: 0.833\n"
     ]
    },
    {
     "name": "stderr",
     "output_type": "stream",
     "text": [
      "/Users/Alderik/anaconda3/lib/python3.7/site-packages/sklearn/ensemble/forest.py:245: FutureWarning: The default value of n_estimators will change from 10 in version 0.20 to 100 in 0.22.\n",
      "  \"10 in version 0.20 to 100 in 0.22.\", FutureWarning)\n"
     ]
    },
    {
     "name": "stdout",
     "output_type": "stream",
     "text": [
      "MLPClassifier:\n",
      "\tVali-Acc: 0.842\n",
      "\tVali-AUC: 0.877\n"
     ]
    }
   ],
   "source": [
    "############### Problem 1 ends here ###############\n",
    "\n",
    "# Make sure it is solved correctly!\n",
    "assert len(joined_data) == len(pages)\n",
    "assert len(joined_data) == len(labels)\n",
    "# Make sure it has *some* positive labels!\n",
    "assert sum([1 for d in joined_data.values() if d.is_literary]) > 0\n",
    "# Make sure it has *some* negative labels!\n",
    "assert sum([1 for d in joined_data.values() if not d.is_literary]) > 0\n",
    "\n",
    "# Construct our ML problem:\n",
    "ys = []\n",
    "examples = []\n",
    "for wiki_data in joined_data.values():\n",
    "    ys.append(wiki_data.is_literary)\n",
    "    examples.append(wiki_data.body)\n",
    "\n",
    "## We're actually going to split before converting to features now...\n",
    "from sklearn.model_selection import train_test_split\n",
    "import numpy as np\n",
    "\n",
    "RANDOM_SEED = 1234\n",
    "\n",
    "## split off train/validate (tv) pieces.\n",
    "ex_tv, ex_test, y_tv, y_test = train_test_split(\n",
    "    examples,\n",
    "    ys,\n",
    "    train_size=0.75,\n",
    "    shuffle=True,\n",
    "    random_state=RANDOM_SEED,\n",
    ")\n",
    "# split off train, validate from (tv) pieces.\n",
    "ex_train, ex_vali, y_train, y_vali = train_test_split(\n",
    "    ex_tv, y_tv, train_size=0.66, shuffle=True, random_state=RANDOM_SEED\n",
    ")\n",
    "\n",
    "## Convert to features, train simple model (TFIDF will be explained eventually.)\n",
    "from sklearn.feature_extraction.text import TfidfVectorizer\n",
    "\n",
    "# Only learn columns for words in the training data, to be fair.\n",
    "word_to_column = TfidfVectorizer(\n",
    "    strip_accents=\"unicode\", lowercase=True, stop_words=\"english\", max_df=0.5\n",
    ")\n",
    "word_to_column.fit(ex_train)\n",
    "\n",
    "# Test words should surprise us, actually!\n",
    "X_train = word_to_column.transform(ex_train)\n",
    "X_vali = word_to_column.transform(ex_vali)\n",
    "X_test = word_to_column.transform(ex_test)\n",
    "\n",
    "\n",
    "print(\"Ready to Learn!\")\n",
    "from sklearn.linear_model import LogisticRegression, SGDClassifier, Perceptron\n",
    "from sklearn.tree import DecisionTreeClassifier\n",
    "from sklearn.ensemble import RandomForestClassifier\n",
    "from sklearn.metrics import roc_auc_score\n",
    "\n",
    "\n",
    "\n",
    "models = {\n",
    "    \"SGDClassifier\": SGDClassifier(),\n",
    "    \"Perceptron\": Perceptron(),\n",
    "    \"LogisticRegression\": LogisticRegression(),\n",
    "    \"DTree\": DecisionTreeClassifier(),\n",
    "    \"RandomForest\": RandomForestClassifier(),\n",
    "    \"MLPClassifier\": MLPClassifier()\n",
    "}\n",
    "\n",
    "\n",
    "# for d in range(1,20):\n",
    "#     models[\"Dtree-{}\".format(d)] = DecisionTreeClassifier(max_depth=d)\n",
    "fit_models = []\n",
    "for name, m in models.items():\n",
    "    m.fit(X_train, y_train)\n",
    "    print(\"{}:\".format(name))\n",
    "    print(\"\\tVali-Acc: {:.3}\".format(m.score(X_vali, y_vali)))\n",
    "    if hasattr(m, \"decision_function\"):\n",
    "        scores = m.decision_function(X_vali)\n",
    "    else:\n",
    "        scores = m.predict_proba(X_vali)[:, 1]\n",
    "    fit_models.append(m)\n",
    "    print(\"\\tVali-AUC: {:.3}\".format(roc_auc_score(y_score=scores, y_true=y_vali)))"
   ]
  },
  {
   "cell_type": "code",
   "execution_count": 15,
   "metadata": {},
   "outputs": [],
   "source": [
    "# \"\"\"\n",
    "# Results should be something like:\n",
    "\n",
    "# SGDClassifier:\n",
    "#         Vali-Acc: 0.84\n",
    "#         Vali-AUC: 0.879\n",
    "# Perceptron:\n",
    "#         Vali-Acc: 0.815\n",
    "#         Vali-AUC: 0.844\n",
    "# LogisticRegression:\n",
    "#         Vali-Acc: 0.788\n",
    "#         Vali-AUC: 0.88\n",
    "# DTree:\n",
    "#         Vali-Acc: 0.739\n",
    "#         Vali-AUC: 0.71\n",
    "# \"\"\""
   ]
  },
  {
   "cell_type": "markdown",
   "metadata": {},
   "source": [
    "### 2. Explore why DecisionTrees are not beating linear models. Answer one of:"
   ]
  },
  {
   "cell_type": "markdown",
   "metadata": {},
   "source": [
    "#### 2.A. Is it a bad depth?\""
   ]
  },
  {
   "cell_type": "markdown",
   "metadata": {},
   "source": [
    "with 32,000 features the decision tree then needs to go super deep to be able to split. "
   ]
  },
  {
   "cell_type": "markdown",
   "metadata": {},
   "source": [
    "#### 2.B. Do Random Forests do better?"
   ]
  },
  {
   "cell_type": "markdown",
   "metadata": {},
   "source": [
    "Yes, it avoids the decision trees tendency to overfit which mean it will generalize poorly on data other than the training data. "
   ]
  },
  {
   "cell_type": "markdown",
   "metadata": {},
   "source": [
    "#### 2.C. Is it randomness? Use simple_boxplot and bootstrap_auc/bootstrap_acc to see if the differences are meaningful!"
   ]
  },
  {
   "cell_type": "markdown",
   "metadata": {},
   "source": [
    "Linear models are clearly superior (to a statistically significant degree) than decision trees for this problem. "
   ]
  },
  {
   "cell_type": "code",
   "execution_count": 16,
   "metadata": {},
   "outputs": [
    {
     "data": {
      "image/png": "[encoded data removed]",
      "text/plain": [
       "<Figure size 432x288 with 1 Axes>"
      ]
     },
     "metadata": {
      "needs_background": "light"
     },
     "output_type": "display_data"
    },
    {
     "data": {
      "text/plain": [
       "<module 'matplotlib.pyplot' from '/Users/Alderik/anaconda3/lib/python3.7/site-packages/matplotlib/pyplot.py'>"
      ]
     },
     "execution_count": 16,
     "metadata": {},
     "output_type": "execute_result"
    }
   ],
   "source": [
    "%matplotlib inline\n",
    "\n",
    "# Helper method to make a series of box-plots from a dictionary:\n",
    "simple_boxplot(\n",
    "    {\n",
    "        \"SGD Regression\": bootstrap_accuracy(fit_models[0], X_vali, y_vali),\n",
    "        \"Perceptron\": bootstrap_accuracy(fit_models[1], X_vali, y_vali),\n",
    "        \"LogisticRegression\": bootstrap_accuracy(fit_models[2], X_vali, y_vali),\n",
    "        \"Decision Tree\": bootstrap_accuracy(fit_models[3], X_vali, y_vali),\n",
    "        \"RandomForest\": bootstrap_accuracy(fit_models[4], X_vali, y_vali),\n",
    "        \"MLP/NN\": bootstrap_accuracy(fit_models[5], X_vali, y_vali),\n",
    "    },\n",
    "    title=\"Validation Accuracy\",\n",
    "    xlabel=\"Model\",\n",
    "    ylabel=\"Accuracy\",\n",
    ")"
   ]
  },
  {
   "cell_type": "code",
   "execution_count": 17,
   "metadata": {},
   "outputs": [
    {
     "data": {
      "image/png": "[encoded data removed]",
      "text/plain": [
       "<Figure size 432x288 with 1 Axes>"
      ]
     },
     "metadata": {
      "needs_background": "light"
     },
     "output_type": "display_data"
    },
    {
     "data": {
      "text/plain": [
       "<module 'matplotlib.pyplot' from '/Users/Alderik/anaconda3/lib/python3.7/site-packages/matplotlib/pyplot.py'>"
      ]
     },
     "execution_count": 17,
     "metadata": {},
     "output_type": "execute_result"
    }
   ],
   "source": [
    "simple_boxplot(\n",
    "    {\n",
    "        \"SGD Regression\": bootstrap_auc(fit_models[0], X_vali, y_vali),\n",
    "        \"Perceptron\": bootstrap_auc(fit_models[1], X_vali, y_vali),\n",
    "        \"LogisticRegression\": bootstrap_auc(fit_models[2], X_vali, y_vali),\n",
    "        \"Decision Tree\": bootstrap_auc(fit_models[3], X_vali, y_vali),\n",
    "        \"RandomForest\": bootstrap_auc(fit_models[4], X_vali, y_vali),\n",
    "        \"MLP/NN\": bootstrap_auc(fit_models[5], X_vali, y_vali),\n",
    "    },\n",
    "    title=\"AUC\",\n",
    "    xlabel=\"Model\",\n",
    "    ylabel=\"Accuracy\",\n",
    ")"
   ]
  },
  {
   "cell_type": "markdown",
   "metadata": {},
   "source": [
    "#### 2.D. Is it randomness? Control for random_state parameters! "
   ]
  },
  {
   "cell_type": "code",
   "execution_count": 10,
   "metadata": {},
   "outputs": [
    {
     "name": "stdout",
     "output_type": "stream",
     "text": [
      "Ready to Learn!\n",
      "SGDClassifier:\n",
      "\tVali-Acc: 0.848\n",
      "\tVali-AUC: 0.903\n",
      "Perceptron:\n",
      "\tVali-Acc: 0.827\n",
      "\tVali-AUC: 0.879\n",
      "LogisticRegression:\n",
      "\tVali-Acc: 0.759\n",
      "\tVali-AUC: 0.894\n"
     ]
    },
    {
     "name": "stderr",
     "output_type": "stream",
     "text": [
      "/Users/Alderik/anaconda3/lib/python3.7/site-packages/sklearn/linear_model/logistic.py:432: FutureWarning: Default solver will be changed to 'lbfgs' in 0.22. Specify a solver to silence this warning.\n",
      "  FutureWarning)\n"
     ]
    },
    {
     "name": "stdout",
     "output_type": "stream",
     "text": [
      "DTree:\n",
      "\tVali-Acc: 0.757\n",
      "\tVali-AUC: 0.729\n",
      "RandomForest:\n",
      "\tVali-Acc: 0.8\n",
      "\tVali-AUC: 0.867\n"
     ]
    },
    {
     "name": "stderr",
     "output_type": "stream",
     "text": [
      "/Users/Alderik/anaconda3/lib/python3.7/site-packages/sklearn/ensemble/forest.py:245: FutureWarning: The default value of n_estimators will change from 10 in version 0.20 to 100 in 0.22.\n",
      "  \"10 in version 0.20 to 100 in 0.22.\", FutureWarning)\n"
     ]
    },
    {
     "name": "stdout",
     "output_type": "stream",
     "text": [
      "MLPClassifier:\n",
      "\tVali-Acc: 0.844\n",
      "\tVali-AUC: 0.9\n"
     ]
    }
   ],
   "source": [
    "############### Problem 1 ends here ###############\n",
    "\n",
    "# Make sure it is solved correctly!\n",
    "assert len(joined_data) == len(pages)\n",
    "assert len(joined_data) == len(labels)\n",
    "# Make sure it has *some* positive labels!\n",
    "assert sum([1 for d in joined_data.values() if d.is_literary]) > 0\n",
    "# Make sure it has *some* negative labels!\n",
    "assert sum([1 for d in joined_data.values() if not d.is_literary]) > 0\n",
    "\n",
    "# Construct our ML problem:\n",
    "ys = []\n",
    "examples = []\n",
    "for wiki_data in joined_data.values():\n",
    "    ys.append(wiki_data.is_literary)\n",
    "    examples.append(wiki_data.body)\n",
    "\n",
    "## We're actually going to split before converting to features now...\n",
    "from sklearn.model_selection import train_test_split\n",
    "import numpy as np\n",
    "\n",
    "RANDOM_SEED = 4321\n",
    "\n",
    "## split off train/validate (tv) pieces.\n",
    "ex_tv, ex_test, y_tv, y_test = train_test_split(\n",
    "    examples,\n",
    "    ys,\n",
    "    train_size=0.75,\n",
    "    shuffle=True,\n",
    "    random_state=RANDOM_SEED,\n",
    ")\n",
    "# split off train, validate from (tv) pieces.\n",
    "ex_train, ex_vali, y_train, y_vali = train_test_split(\n",
    "    ex_tv, y_tv, train_size=0.66, shuffle=True, random_state=RANDOM_SEED\n",
    ")\n",
    "\n",
    "## Convert to features, train simple model (TFIDF will be explained eventually.)\n",
    "from sklearn.feature_extraction.text import TfidfVectorizer\n",
    "\n",
    "# Only learn columns for words in the training data, to be fair.\n",
    "word_to_column = TfidfVectorizer(\n",
    "    strip_accents=\"unicode\", lowercase=True, stop_words=\"english\", max_df=0.5\n",
    ")\n",
    "word_to_column.fit(ex_train)\n",
    "\n",
    "# Test words should surprise us, actually!\n",
    "X_train = word_to_column.transform(ex_train)\n",
    "X_vali = word_to_column.transform(ex_vali)\n",
    "X_test = word_to_column.transform(ex_test)\n",
    "\n",
    "\n",
    "print(\"Ready to Learn!\")\n",
    "from sklearn.linear_model import LogisticRegression, SGDClassifier, Perceptron\n",
    "from sklearn.tree import DecisionTreeClassifier\n",
    "from sklearn.ensemble import RandomForestClassifier\n",
    "from sklearn.metrics import roc_auc_score\n",
    "\n",
    "models = {\n",
    "    \"SGDClassifier\": SGDClassifier(),\n",
    "    \"Perceptron\": Perceptron(),\n",
    "    \"LogisticRegression\": LogisticRegression(),\n",
    "    \"DTree\": DecisionTreeClassifier(),\n",
    "    \"RandomForest\": RandomForestClassifier(),\n",
    "    \"MLPClassifier\": MLPClassifier()\n",
    "}\n",
    "\n",
    "\n",
    "# for d in range(1,20):\n",
    "#     models[\"Dtree-{}\".format(d)] = DecisionTreeClassifier(max_depth=d)\n",
    "fit_models = []\n",
    "for name, m in models.items():\n",
    "    m.fit(X_train, y_train)\n",
    "    print(\"{}:\".format(name))\n",
    "    print(\"\\tVali-Acc: {:.3}\".format(m.score(X_vali, y_vali)))\n",
    "    if hasattr(m, \"decision_function\"):\n",
    "        scores = m.decision_function(X_vali)\n",
    "    else:\n",
    "        scores = m.predict_proba(X_vali)[:, 1]\n",
    "    fit_models.append(m)\n",
    "    print(\"\\tVali-AUC: {:.3}\".format(roc_auc_score(y_score=scores, y_true=y_vali)))"
   ]
  },
  {
   "cell_type": "code",
   "execution_count": 12,
   "metadata": {},
   "outputs": [
    {
     "data": {
      "image/png": "[encoded data removed]",
      "text/plain": [
       "<Figure size 432x288 with 1 Axes>"
      ]
     },
     "metadata": {
      "needs_background": "light"
     },
     "output_type": "display_data"
    },
    {
     "data": {
      "text/plain": [
       "<module 'matplotlib.pyplot' from '/Users/Alderik/anaconda3/lib/python3.7/site-packages/matplotlib/pyplot.py'>"
      ]
     },
     "execution_count": 12,
     "metadata": {},
     "output_type": "execute_result"
    }
   ],
   "source": [
    "simple_boxplot(\n",
    "    {\n",
    "        \"SGD Regression\": bootstrap_auc(fit_models[0], X_vali, y_vali),\n",
    "        \"Perceptron\": bootstrap_auc(fit_models[1], X_vali, y_vali),\n",
    "        \"LogisticRegression\": bootstrap_auc(fit_models[2], X_vali, y_vali),\n",
    "        \"Decision Tree\": bootstrap_auc(fit_models[3], X_vali, y_vali),\n",
    "        \"RandomForest\": bootstrap_auc(fit_models[4], X_vali, y_vali),\n",
    "        \"MLP/NN\": bootstrap_auc(fit_models[5], X_vali, y_vali),\n",
    "    },\n",
    "    title=\"AUC\",\n",
    "    xlabel=\"Model\",\n",
    "    ylabel=\"Accuracy\",\n",
    ")"
   ]
  },
  {
   "cell_type": "markdown",
   "metadata": {},
   "source": [
    "Changed random state to 4321. Randomness only had a big change on the linear models "
   ]
  },
  {
   "cell_type": "code",
   "execution_count": null,
   "metadata": {},
   "outputs": [],
   "source": []
  }
 ],
 "metadata": {
  "kernelspec": {
   "display_name": "Python 3",
   "language": "python",
   "name": "python3"
  },
  "language_info": {
   "codemirror_mode": {
    "name": "ipython",
    "version": 3
   },
   "file_extension": ".py",
   "mimetype": "text/x-python",
   "name": "python",
   "nbconvert_exporter": "python",
   "pygments_lexer": "ipython3",
   "version": "3.7.3"
  }
 },
 "nbformat": 4,
 "nbformat_minor": 2
}
