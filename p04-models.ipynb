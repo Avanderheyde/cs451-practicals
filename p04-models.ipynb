{
 "cells": [
  {
   "cell_type": "code",
   "execution_count": 14,
   "metadata": {},
   "outputs": [],
   "source": [
    "import numpy as np\n",
    "from sklearn.feature_extraction import DictVectorizer\n",
    "from sklearn.model_selection import train_test_split\n",
    "from sklearn.base import ClassifierMixin\n",
    "from sklearn.tree import DecisionTreeClassifier\n",
    "from sklearn.ensemble import RandomForestClassifier\n",
    "from sklearn.linear_model import Perceptron, LogisticRegression\n",
    "from sklearn.neural_network import MLPClassifier\n",
    "\n",
    "# new helpers:\n",
    "from shared import dataset_local_path, bootstrap_accuracy, simple_boxplot, TODO\n",
    "\n",
    "# stdlib:\n",
    "from dataclasses import dataclass\n",
    "import json\n",
    "from typing import Dict, Any, List"
   ]
  },
  {
   "cell_type": "code",
   "execution_count": 15,
   "metadata": {},
   "outputs": [
    {
     "name": "stdout",
     "output_type": "stream",
     "text": [
      "Features as (2772, 38) matrix.\n",
      "(1372, 38) (707, 38) (693, 38)\n"
     ]
    }
   ],
   "source": [
    "examples = []\n",
    "ys = []\n",
    "\n",
    "with open(dataset_local_path(\"poetry_id.jsonl\")) as fp:\n",
    "    for line in fp:\n",
    "        info = json.loads(line)\n",
    "        # Note: the data contains a whole bunch of extra stuff; we just want numeric features for now.\n",
    "        keep = info[\"features\"]\n",
    "        # whether or not it's poetry is our label.\n",
    "        ys.append(info[\"poetry\"])\n",
    "        # hold onto this single dictionary.\n",
    "        examples.append(keep)\n",
    "\n",
    "## CONVERT TO MATRIX:\n",
    "\n",
    "feature_numbering = DictVectorizer(sort=True)\n",
    "X = feature_numbering.fit_transform(examples)\n",
    "\n",
    "print(\"Features as {} matrix.\".format(X.shape))\n",
    "\n",
    "\n",
    "## SPLIT DATA:\n",
    "\n",
    "RANDOM_SEED = 12345678\n",
    "\n",
    "# Numpy-arrays are more useful than python's lists.\n",
    "y = np.array(ys)\n",
    "# split off train/validate (tv) pieces.\n",
    "X_tv, X_test, y_tv, y_test = train_test_split(\n",
    "    X, y, train_size=0.75, shuffle=True, random_state=RANDOM_SEED\n",
    ")\n",
    "# split off train, validate from (tv) pieces.\n",
    "X_train, X_vali, y_train, y_vali = train_test_split(\n",
    "    X_tv, y_tv, train_size=0.66, shuffle=True, random_state=RANDOM_SEED\n",
    ")\n",
    "\n",
    "print(X_train.shape, X_vali.shape, X_test.shape)\n"
   ]
  },
  {
   "cell_type": "code",
   "execution_count": 16,
   "metadata": {},
   "outputs": [],
   "source": [
    "@dataclass\n",
    "class ExperimentResult:\n",
    "    vali_acc: float\n",
    "    params: Dict[str, Any]\n",
    "    model: ClassifierMixin\n"
   ]
  },
  {
   "cell_type": "code",
   "execution_count": 17,
   "metadata": {},
   "outputs": [
    {
     "name": "stdout",
     "output_type": "stream",
     "text": [
      "Consider Logistic Regression.\n"
     ]
    },
    {
     "name": "stderr",
     "output_type": "stream",
     "text": [
      "/Users/Alderik/anaconda3/lib/python3.7/site-packages/sklearn/linear_model/logistic.py:432: FutureWarning: Default solver will be changed to 'lbfgs' in 0.22. Specify a solver to silence this warning.\n",
      "  FutureWarning)\n"
     ]
    },
    {
     "name": "stdout",
     "output_type": "stream",
     "text": [
      "Consider Perceptron.\n",
      "Consider Decision Tree.\n",
      "Consider Random Forest.\n"
     ]
    },
    {
     "name": "stderr",
     "output_type": "stream",
     "text": [
      "/Users/Alderik/anaconda3/lib/python3.7/site-packages/sklearn/ensemble/forest.py:245: FutureWarning: The default value of n_estimators will change from 10 in version 0.20 to 100 in 0.22.\n",
      "  \"10 in version 0.20 to 100 in 0.22.\", FutureWarning)\n",
      "/Users/Alderik/anaconda3/lib/python3.7/site-packages/sklearn/ensemble/forest.py:245: FutureWarning: The default value of n_estimators will change from 10 in version 0.20 to 100 in 0.22.\n",
      "  \"10 in version 0.20 to 100 in 0.22.\", FutureWarning)\n",
      "/Users/Alderik/anaconda3/lib/python3.7/site-packages/sklearn/ensemble/forest.py:245: FutureWarning: The default value of n_estimators will change from 10 in version 0.20 to 100 in 0.22.\n",
      "  \"10 in version 0.20 to 100 in 0.22.\", FutureWarning)\n",
      "/Users/Alderik/anaconda3/lib/python3.7/site-packages/sklearn/ensemble/forest.py:245: FutureWarning: The default value of n_estimators will change from 10 in version 0.20 to 100 in 0.22.\n",
      "  \"10 in version 0.20 to 100 in 0.22.\", FutureWarning)\n",
      "/Users/Alderik/anaconda3/lib/python3.7/site-packages/sklearn/ensemble/forest.py:245: FutureWarning: The default value of n_estimators will change from 10 in version 0.20 to 100 in 0.22.\n",
      "  \"10 in version 0.20 to 100 in 0.22.\", FutureWarning)\n",
      "/Users/Alderik/anaconda3/lib/python3.7/site-packages/sklearn/ensemble/forest.py:245: FutureWarning: The default value of n_estimators will change from 10 in version 0.20 to 100 in 0.22.\n",
      "  \"10 in version 0.20 to 100 in 0.22.\", FutureWarning)\n",
      "/Users/Alderik/anaconda3/lib/python3.7/site-packages/sklearn/ensemble/forest.py:245: FutureWarning: The default value of n_estimators will change from 10 in version 0.20 to 100 in 0.22.\n",
      "  \"10 in version 0.20 to 100 in 0.22.\", FutureWarning)\n",
      "/Users/Alderik/anaconda3/lib/python3.7/site-packages/sklearn/ensemble/forest.py:245: FutureWarning: The default value of n_estimators will change from 10 in version 0.20 to 100 in 0.22.\n",
      "  \"10 in version 0.20 to 100 in 0.22.\", FutureWarning)\n",
      "/Users/Alderik/anaconda3/lib/python3.7/site-packages/sklearn/ensemble/forest.py:245: FutureWarning: The default value of n_estimators will change from 10 in version 0.20 to 100 in 0.22.\n",
      "  \"10 in version 0.20 to 100 in 0.22.\", FutureWarning)\n",
      "/Users/Alderik/anaconda3/lib/python3.7/site-packages/sklearn/ensemble/forest.py:245: FutureWarning: The default value of n_estimators will change from 10 in version 0.20 to 100 in 0.22.\n",
      "  \"10 in version 0.20 to 100 in 0.22.\", FutureWarning)\n",
      "/Users/Alderik/anaconda3/lib/python3.7/site-packages/sklearn/ensemble/forest.py:245: FutureWarning: The default value of n_estimators will change from 10 in version 0.20 to 100 in 0.22.\n",
      "  \"10 in version 0.20 to 100 in 0.22.\", FutureWarning)\n",
      "/Users/Alderik/anaconda3/lib/python3.7/site-packages/sklearn/ensemble/forest.py:245: FutureWarning: The default value of n_estimators will change from 10 in version 0.20 to 100 in 0.22.\n",
      "  \"10 in version 0.20 to 100 in 0.22.\", FutureWarning)\n",
      "/Users/Alderik/anaconda3/lib/python3.7/site-packages/sklearn/ensemble/forest.py:245: FutureWarning: The default value of n_estimators will change from 10 in version 0.20 to 100 in 0.22.\n",
      "  \"10 in version 0.20 to 100 in 0.22.\", FutureWarning)\n",
      "/Users/Alderik/anaconda3/lib/python3.7/site-packages/sklearn/ensemble/forest.py:245: FutureWarning: The default value of n_estimators will change from 10 in version 0.20 to 100 in 0.22.\n",
      "  \"10 in version 0.20 to 100 in 0.22.\", FutureWarning)\n",
      "/Users/Alderik/anaconda3/lib/python3.7/site-packages/sklearn/ensemble/forest.py:245: FutureWarning: The default value of n_estimators will change from 10 in version 0.20 to 100 in 0.22.\n",
      "  \"10 in version 0.20 to 100 in 0.22.\", FutureWarning)\n",
      "/Users/Alderik/anaconda3/lib/python3.7/site-packages/sklearn/ensemble/forest.py:245: FutureWarning: The default value of n_estimators will change from 10 in version 0.20 to 100 in 0.22.\n",
      "  \"10 in version 0.20 to 100 in 0.22.\", FutureWarning)\n",
      "/Users/Alderik/anaconda3/lib/python3.7/site-packages/sklearn/ensemble/forest.py:245: FutureWarning: The default value of n_estimators will change from 10 in version 0.20 to 100 in 0.22.\n",
      "  \"10 in version 0.20 to 100 in 0.22.\", FutureWarning)\n",
      "/Users/Alderik/anaconda3/lib/python3.7/site-packages/sklearn/ensemble/forest.py:245: FutureWarning: The default value of n_estimators will change from 10 in version 0.20 to 100 in 0.22.\n",
      "  \"10 in version 0.20 to 100 in 0.22.\", FutureWarning)\n",
      "/Users/Alderik/anaconda3/lib/python3.7/site-packages/sklearn/ensemble/forest.py:245: FutureWarning: The default value of n_estimators will change from 10 in version 0.20 to 100 in 0.22.\n",
      "  \"10 in version 0.20 to 100 in 0.22.\", FutureWarning)\n",
      "/Users/Alderik/anaconda3/lib/python3.7/site-packages/sklearn/ensemble/forest.py:245: FutureWarning: The default value of n_estimators will change from 10 in version 0.20 to 100 in 0.22.\n",
      "  \"10 in version 0.20 to 100 in 0.22.\", FutureWarning)\n",
      "/Users/Alderik/anaconda3/lib/python3.7/site-packages/sklearn/ensemble/forest.py:245: FutureWarning: The default value of n_estimators will change from 10 in version 0.20 to 100 in 0.22.\n",
      "  \"10 in version 0.20 to 100 in 0.22.\", FutureWarning)\n",
      "/Users/Alderik/anaconda3/lib/python3.7/site-packages/sklearn/ensemble/forest.py:245: FutureWarning: The default value of n_estimators will change from 10 in version 0.20 to 100 in 0.22.\n",
      "  \"10 in version 0.20 to 100 in 0.22.\", FutureWarning)\n",
      "/Users/Alderik/anaconda3/lib/python3.7/site-packages/sklearn/ensemble/forest.py:245: FutureWarning: The default value of n_estimators will change from 10 in version 0.20 to 100 in 0.22.\n",
      "  \"10 in version 0.20 to 100 in 0.22.\", FutureWarning)\n",
      "/Users/Alderik/anaconda3/lib/python3.7/site-packages/sklearn/ensemble/forest.py:245: FutureWarning: The default value of n_estimators will change from 10 in version 0.20 to 100 in 0.22.\n",
      "  \"10 in version 0.20 to 100 in 0.22.\", FutureWarning)\n",
      "/Users/Alderik/anaconda3/lib/python3.7/site-packages/sklearn/ensemble/forest.py:245: FutureWarning: The default value of n_estimators will change from 10 in version 0.20 to 100 in 0.22.\n",
      "  \"10 in version 0.20 to 100 in 0.22.\", FutureWarning)\n",
      "/Users/Alderik/anaconda3/lib/python3.7/site-packages/sklearn/ensemble/forest.py:245: FutureWarning: The default value of n_estimators will change from 10 in version 0.20 to 100 in 0.22.\n",
      "  \"10 in version 0.20 to 100 in 0.22.\", FutureWarning)\n",
      "/Users/Alderik/anaconda3/lib/python3.7/site-packages/sklearn/ensemble/forest.py:245: FutureWarning: The default value of n_estimators will change from 10 in version 0.20 to 100 in 0.22.\n",
      "  \"10 in version 0.20 to 100 in 0.22.\", FutureWarning)\n",
      "/Users/Alderik/anaconda3/lib/python3.7/site-packages/sklearn/ensemble/forest.py:245: FutureWarning: The default value of n_estimators will change from 10 in version 0.20 to 100 in 0.22.\n",
      "  \"10 in version 0.20 to 100 in 0.22.\", FutureWarning)\n",
      "/Users/Alderik/anaconda3/lib/python3.7/site-packages/sklearn/ensemble/forest.py:245: FutureWarning: The default value of n_estimators will change from 10 in version 0.20 to 100 in 0.22.\n",
      "  \"10 in version 0.20 to 100 in 0.22.\", FutureWarning)\n",
      "/Users/Alderik/anaconda3/lib/python3.7/site-packages/sklearn/ensemble/forest.py:245: FutureWarning: The default value of n_estimators will change from 10 in version 0.20 to 100 in 0.22.\n",
      "  \"10 in version 0.20 to 100 in 0.22.\", FutureWarning)\n"
     ]
    },
    {
     "name": "stdout",
     "output_type": "stream",
     "text": [
      "Consider Multi-Layer Perceptron.\n",
      "Best Logistic Regression ExperimentResult(vali_acc=0.942008486562942, params={'random_state': 0, 'penalty': 'l1', 'max_iter': 100, 'C': 2}, model=LogisticRegression(C=2, class_weight=None, dual=False, fit_intercept=True,\n",
      "                   intercept_scaling=1, l1_ratio=None, max_iter=100,\n",
      "                   multi_class='warn', n_jobs=None, penalty='l1',\n",
      "                   random_state=0, solver='warn', tol=0.0001, verbose=0,\n",
      "                   warm_start=False))\n",
      "Best Perceptron ExperimentResult(vali_acc=0.9038189533239038, params={'random_state': 0, 'penalty': None, 'max_iter': 100}, model=Perceptron(alpha=0.0001, class_weight=None, early_stopping=False, eta0=1.0,\n",
      "           fit_intercept=True, max_iter=100, n_iter_no_change=5, n_jobs=None,\n",
      "           penalty=None, random_state=0, shuffle=True, tol=0.001,\n",
      "           validation_fraction=0.1, verbose=0, warm_start=False))\n",
      "Best DTree ExperimentResult(vali_acc=0.9335219236209336, params={'criterion': 'entropy', 'max_depth': 5, 'random_state': 2}, model=DecisionTreeClassifier(class_weight=None, criterion='entropy', max_depth=5,\n",
      "                       max_features=None, max_leaf_nodes=None,\n",
      "                       min_impurity_decrease=0.0, min_impurity_split=None,\n",
      "                       min_samples_leaf=1, min_samples_split=2,\n",
      "                       min_weight_fraction_leaf=0.0, presort=False,\n",
      "                       random_state=2, splitter='best'))\n",
      "Best RForest ExperimentResult(vali_acc=0.9377652050919377, params={'criterion': 'entropy', 'max_depth': 6, 'random_state': 0}, model=RandomForestClassifier(bootstrap=True, class_weight=None, criterion='entropy',\n",
      "                       max_depth=6, max_features='auto', max_leaf_nodes=None,\n",
      "                       min_impurity_decrease=0.0, min_impurity_split=None,\n",
      "                       min_samples_leaf=1, min_samples_split=2,\n",
      "                       min_weight_fraction_leaf=0.0, n_estimators=10,\n",
      "                       n_jobs=None, oob_score=False, random_state=0, verbose=0,\n",
      "                       warm_start=False))\n",
      "Best MLP ExperimentResult(vali_acc=0.9519094766619519, params={'hidden_layer_sizes': (32,), 'random_state': 0, 'solver': 'lbfgs', 'max_iter': 8000, 'activation': 'tanh', 'alpha': 0.0001}, model=MLPClassifier(activation='tanh', alpha=0.0001, batch_size='auto', beta_1=0.9,\n",
      "              beta_2=0.999, early_stopping=False, epsilon=1e-08,\n",
      "              hidden_layer_sizes=(32,), learning_rate='constant',\n",
      "              learning_rate_init=0.001, max_iter=8000, momentum=0.9,\n",
      "              n_iter_no_change=10, nesterovs_momentum=True, power_t=0.5,\n",
      "              random_state=0, shuffle=True, solver='lbfgs', tol=0.0001,\n",
      "              validation_fraction=0.1, verbose=False, warm_start=False))\n"
     ]
    }
   ],
   "source": [
    "def consider_decision_trees():\n",
    "    print(\"Consider Decision Tree.\")\n",
    "    performances: List[ExperimentResult] = []\n",
    "    for rnd in range(3):\n",
    "        for crit in [\"entropy\", \"gini\"]:\n",
    "            for d in range(1, 9):\n",
    "                params = {\n",
    "                    \"criterion\": crit,\n",
    "                    \"max_depth\": d,\n",
    "                    \"random_state\": rnd,\n",
    "                }\n",
    "                f = DecisionTreeClassifier(**params)\n",
    "                f.fit(X_train, y_train)\n",
    "                vali_acc = f.score(X_vali, y_vali)\n",
    "                result = ExperimentResult(vali_acc, params, f)\n",
    "                performances.append(result)\n",
    "    return max(performances, key=lambda result: result.vali_acc)\n",
    "\n",
    "\n",
    "def consider_random_forest():\n",
    "    print(\"Consider Random Forest.\")\n",
    "    performances: List[ExperimentResult] = []\n",
    "    # Random Forest\n",
    "    for rnd in range(3):\n",
    "        for crit in [\"entropy\",\"gini\"]:\n",
    "            for d in range(4, 9):\n",
    "                params = {\n",
    "                    \"criterion\": crit,\n",
    "                    \"max_depth\": d,\n",
    "                    \"random_state\": rnd,\n",
    "                }\n",
    "                f = RandomForestClassifier(**params)\n",
    "                f.fit(X_train, y_train)\n",
    "                vali_acc = f.score(X_vali, y_vali)\n",
    "                result = ExperimentResult(vali_acc, params, f)\n",
    "                performances.append(result)\n",
    "    return max(performances, key=lambda result: result.vali_acc)\n",
    "\n",
    "\n",
    "def consider_perceptron() -> ExperimentResult:\n",
    "    print(\"Consider Perceptron.\")\n",
    "    performances: List[ExperimentResult] = []\n",
    "    for rnd in range(3):\n",
    "        for max_iter in range(100,2000,100):\n",
    "            params = {\n",
    "                \"random_state\": rnd,\n",
    "                \"penalty\": None,\n",
    "                \"max_iter\": max_iter,\n",
    "            }\n",
    "            f = Perceptron(**params)\n",
    "            f.fit(X_train, y_train)\n",
    "            vali_acc = f.score(X_vali, y_vali)\n",
    "            result = ExperimentResult(vali_acc, params, f)\n",
    "            performances.append(result)\n",
    "\n",
    "    return max(performances, key=lambda result: result.vali_acc)\n",
    "\n",
    "\n",
    "def consider_logistic_regression() -> ExperimentResult:\n",
    "    print(\"Consider Logistic Regression.\")\n",
    "    performances: List[ExperimentResult] = []\n",
    "    for rnd in range(3):\n",
    "        for max_iter in range(100,2000,100):\n",
    "            for c in range(1,3,1):\n",
    "                for pen in ['l1', 'l2']:\n",
    "                    params = {\n",
    "                        \"random_state\": rnd,\n",
    "                        \"penalty\": pen,\n",
    "                        \"max_iter\": 100,\n",
    "                        \"C\": c,\n",
    "                    }\n",
    "                    f = LogisticRegression(**params)\n",
    "                    f.fit(X_train, y_train)\n",
    "                    vali_acc = f.score(X_vali, y_vali)\n",
    "                    result = ExperimentResult(vali_acc, params, f)\n",
    "                    performances.append(result)\n",
    "\n",
    "    return max(performances, key=lambda result: result.vali_acc)\n",
    "\n",
    "\n",
    "def consider_neural_net() -> ExperimentResult:\n",
    "    print(\"Consider Multi-Layer Perceptron.\")\n",
    "    performances: List[ExperimentResult] = []\n",
    "    for rnd in range(3):\n",
    "        for l_sizes in [(18,),(20,),(22,),(24,),(26,),(28,),(30,),(32,)]:\n",
    "            for max_iter in range(7000,10000,1000):\n",
    "                for optim in ['lbfgs', 'sgd', 'adam']:\n",
    "                    for activation in ['identity', 'logistic', 'tanh', 'relu']:\n",
    "                        params = {\n",
    "                            \"hidden_layer_sizes\": l_sizes,\n",
    "                            \"random_state\": rnd,\n",
    "                            \"solver\": optim,\n",
    "                            \"max_iter\": max_iter,\n",
    "                            \"activation\":activation,\n",
    "                            \"alpha\": 0.0001,\n",
    "                        }\n",
    "                        f = MLPClassifier(**params)\n",
    "                        f.fit(X_train, y_train)\n",
    "                        vali_acc = f.score(X_vali, y_vali)\n",
    "                        result = ExperimentResult(vali_acc, params, f)\n",
    "                        performances.append(result)\n",
    "\n",
    "    return max(performances, key=lambda result: result.vali_acc)\n",
    "\n",
    "\n",
    "logit = consider_logistic_regression()\n",
    "perceptron = consider_perceptron()\n",
    "dtree = consider_decision_trees()\n",
    "rforest = consider_random_forest()\n",
    "mlp = consider_neural_net()\n",
    "\n",
    "print(\"Best Logistic Regression\", logit)\n",
    "print(\"Best Perceptron\", perceptron)\n",
    "print(\"Best DTree\", dtree)\n",
    "print(\"Best RForest\", rforest)\n",
    "print(\"Best MLP\", mlp)"
   ]
  },
  {
   "cell_type": "markdown",
   "metadata": {},
   "source": [
    "### 1. Understand consider_decision_trees; I have 'tuned' it."
   ]
  },
  {
   "cell_type": "markdown",
   "metadata": {},
   "source": [
    "tuning by trying many combinations of criterion random states and depths. "
   ]
  },
  {
   "cell_type": "code",
   "execution_count": null,
   "metadata": {},
   "outputs": [],
   "source": [
    "def consider_decision_trees():\n",
    "    print(\"Consider Decision Tree.\")\n",
    "    performances: List[ExperimentResult] = []\n",
    "    for rnd in range(3): #LOOP THREE DIFFERENT RANDOM STATES\n",
    "        for crit in [\"entropy\", \"gini\"]: #LOOP THROUGH CRITERION\n",
    "            for d in range(1, 9): #LOOP THORUGH DEPTHS\n",
    "                params = {\n",
    "                    \"criterion\": crit,\n",
    "                    \"max_depth\": d,\n",
    "                    \"random_state\": rnd,\n",
    "                }\n",
    "                f = DecisionTreeClassifier(**params)\n",
    "                f.fit(X_train, y_train)\n",
    "                vali_acc = f.score(X_vali, y_vali)\n",
    "                result = ExperimentResult(vali_acc, params, f)\n",
    "                performances.append(result)\n",
    "    return max(performances, key=lambda result: result.vali_acc)"
   ]
  },
  {
   "cell_type": "markdown",
   "metadata": {},
   "source": [
    "### 2. Find appropriate max_iter settings to stop warning messages."
   ]
  },
  {
   "cell_type": "markdown",
   "metadata": {},
   "source": [
    "it took the max_iter to get to be greater than 7000 to get no convergence warnings"
   ]
  },
  {
   "cell_type": "markdown",
   "metadata": {},
   "source": [
    "### 3. Pick a model: {perceptron, logistic regression, neural_network} and optimize it!"
   ]
  },
  {
   "cell_type": "code",
   "execution_count": 18,
   "metadata": {
    "scrolled": false
   },
   "outputs": [
    {
     "data": {
      "image/png": "[encoded data removed]",
      "text/plain": [
       "<IPython.core.display.Image object>"
      ]
     },
     "execution_count": 18,
     "metadata": {},
     "output_type": "execute_result"
    }
   ],
   "source": [
    "\n",
    "from IPython.display import Image\n",
    "Image(filename='model-cmp.png') \n",
    "#PRE-PARAMETER TUNING"
   ]
  },
  {
   "cell_type": "code",
   "execution_count": 19,
   "metadata": {},
   "outputs": [
    {
     "data": {
      "image/png": "[encoded data removed]",
      "text/plain": [
       "<Figure size 432x288 with 1 Axes>"
      ]
     },
     "metadata": {
      "needs_background": "light"
     },
     "output_type": "display_data"
    },
    {
     "data": {
      "text/plain": [
       "<module 'matplotlib.pyplot' from '/Users/Alderik/anaconda3/lib/python3.7/site-packages/matplotlib/pyplot.py'>"
      ]
     },
     "execution_count": 19,
     "metadata": {},
     "output_type": "execute_result"
    }
   ],
   "source": [
    "%matplotlib inline\n",
    "\n",
    "# Helper method to make a series of box-plots from a dictionary:\n",
    "simple_boxplot(\n",
    "    {\n",
    "        \"Logistic Regression\": bootstrap_accuracy(logit.model, X_vali, y_vali),\n",
    "        \"Perceptron\": bootstrap_accuracy(perceptron.model, X_vali, y_vali),\n",
    "        \"Decision Tree\": bootstrap_accuracy(dtree.model, X_vali, y_vali),\n",
    "        \"RandomForest\": bootstrap_accuracy(rforest.model, X_vali, y_vali),\n",
    "        \"MLP/NN\": bootstrap_accuracy(mlp.model, X_vali, y_vali),\n",
    "    },\n",
    "    title=\"Validation Accuracy\",\n",
    "    xlabel=\"Model\",\n",
    "    ylabel=\"Accuracy\",\n",
    "    save=\"model-cmp2.png\",\n",
    ")"
   ]
  }
 ],
 "metadata": {
  "kernelspec": {
   "display_name": "Python 3",
   "language": "python",
   "name": "python3"
  },
  "language_info": {
   "codemirror_mode": {
    "name": "ipython",
    "version": 3
   },
   "file_extension": ".py",
   "mimetype": "text/x-python",
   "name": "python",
   "nbconvert_exporter": "python",
   "pygments_lexer": "ipython3",
   "version": "3.7.3"
  }
 },
 "nbformat": 4,
 "nbformat_minor": 2
}
