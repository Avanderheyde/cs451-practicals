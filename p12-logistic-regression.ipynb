{
 "cells": [
  {
   "cell_type": "code",
   "execution_count": 1,
   "id": "314d9ec1",
   "metadata": {},
   "outputs": [],
   "source": [
    "#%%\n",
    "from dataclasses import dataclass, field\n",
    "import numpy as np\n",
    "from sklearn import metrics\n",
    "import numpy as np\n",
    "from tqdm import tqdm\n",
    "import random\n",
    "from typing import List, Dict\n",
    "from sklearn.utils import resample\n",
    "from scipy.special import expit\n",
    "from shared import bootstrap_auc\n",
    "from sklearn.model_selection import train_test_split"
   ]
  },
  {
   "cell_type": "code",
   "execution_count": 2,
   "id": "43e170d9",
   "metadata": {},
   "outputs": [],
   "source": [
    "# start off by seeding random number generators:\n",
    "RANDOM_SEED = 12345\n",
    "random.seed(RANDOM_SEED)\n",
    "np.random.seed(RANDOM_SEED)\n",
    "\n",
    "# import data; choose feature space\n",
    "from dataset_poetry import y_train, Xd_train, y_vali, Xd_vali\n",
    "\n",
    "X_train = Xd_train[\"numeric\"]\n",
    "X_vali = Xd_vali[\"numeric\"]"
   ]
  },
  {
   "cell_type": "code",
   "execution_count": 3,
   "id": "cdb8d1cc",
   "metadata": {},
   "outputs": [
    {
     "name": "stdout",
     "output_type": "stream",
     "text": [
      "skLearn-LR AUC: 0.973\n",
      "skLearn-LR Acc: 0.929\n"
     ]
    }
   ],
   "source": [
    "#%%\n",
    "from sklearn.linear_model import LogisticRegression\n",
    "\n",
    "m = LogisticRegression(random_state=RANDOM_SEED, penalty=\"none\", max_iter=2000)\n",
    "m.fit(X_train, y_train)\n",
    "\n",
    "print(\"skLearn-LR AUC: {:.3}\".format(np.mean(bootstrap_auc(m, X_vali, y_vali))))\n",
    "print(\"skLearn-LR Acc: {:.3}\".format(m.score(X_vali, y_vali)))"
   ]
  },
  {
   "cell_type": "code",
   "execution_count": null,
   "id": "a7fd0aae",
   "metadata": {},
   "outputs": [],
   "source": [
    "@dataclass\n",
    "class LogisticRegressionModel:\n",
    "    # Managed to squeeze bias into this weights array by adding some +1s.\n",
    "    weights: np.ndarray\n",
    "\n",
    "    @staticmethod\n",
    "    def random(D: int) -> \"LogisticRegressionModel\":\n",
    "        weights = np.random.randn(D + 1, 1)\n",
    "        return LogisticRegressionModel(weights)\n",
    "\n",
    "    def decision_function(self, X: np.ndarray) -> np.ndarray:\n",
    "        \"\"\" Compute the expit of the signed distance from the self.weights hyperplane. \"\"\"\n",
    "        (N, D) = X.shape\n",
    "        assert self.weights[:D].shape == (D, 1)\n",
    "        # Matrix multiplication; sprinkle transpose and assert to get the shapes you want (or remember Linear Algebra)... or both!\n",
    "        output = np.dot(self.weights[:D].transpose(), X.transpose())\n",
    "        assert output.shape == (1, N)\n",
    "        # now add bias and put it through the 'S'/sigmoid/'expit' function.\n",
    "        return np.array(expit(output + self.weights[-1])).ravel()\n",
    "\n",
    "    def predict(self, X: np.ndarray) -> np.ndarray:\n",
    "        return np.array(self.decision_function(X) > 0.5, dtype=\"int32\").ravel()\n",
    "\n",
    "    def score(self, X: np.ndarray, y: np.ndarray) -> float:\n",
    "        \"\"\" Take predictions and compute accuracy. \"\"\"\n",
    "        y_hat = self.predict(X)\n",
    "        return metrics.accuracy_score(np.asarray(y), y_hat)  # type:ignore\n",
    "\n",
    "\n",
    "@dataclass\n",
    "class ModelTrainingCurve:\n",
    "    train: List[float] = field(default_factory=list)\n",
    "    validation: List[float] = field(default_factory=list)\n",
    "\n",
    "    def add_sample(\n",
    "        self,\n",
    "        m: LogisticRegressionModel,\n",
    "        X: np.ndarray,\n",
    "        y: np.ndarray,\n",
    "        X_vali: np.ndarray,\n",
    "        y_vali: np.ndarray,\n",
    "    ) -> None:\n",
    "        self.train.append(m.score(X, y))\n",
    "        self.validation.append(m.score(X_vali, y_vali))\n",
    "\n",
    "\n",
    "(N, D) = X_train.shape\n",
    "\n",
    "learning_curves: Dict[str, ModelTrainingCurve] = {}\n",
    "\n",
    "\n",
    "def compute_gradient_update(m, X, y) -> np.ndarray:\n",
    "    \"\"\" Predict using m over X; compare to y, calculate the gradient update.\"\"\"\n",
    "    (N, D) = X.shape\n",
    "    y_hat = m.decision_function(X)\n",
    "    y_diffs = np.array(y_hat - y)\n",
    "    # look at all the predictions to compute our derivative:\n",
    "    gradient = np.zeros((D + 1, 1))\n",
    "\n",
    "    # Literally a bajillion times faster if we ditch the for loops!\n",
    "    # 1. scale X matrix by the y_diffs; then sum columns:\n",
    "    x_scaled_by_y = X.T * y_diffs\n",
    "    non_bias_gradient = np.sum(x_scaled_by_y, axis=1)\n",
    "    gradient[:D] = non_bias_gradient.reshape((D, 1))\n",
    "    # 2. the bias term is always 1 in X rows; so we just sum up the y_diffs for this.\n",
    "    gradient[D] += np.sum(y_diffs)\n",
    "\n",
    "    # take an gradient step in the negative direction ('down')\n",
    "    return -(gradient / N)"
   ]
  },
  {
   "cell_type": "code",
   "execution_count": 39,
   "id": "3e35c045",
   "metadata": {},
   "outputs": [
    {
     "name": "stderr",
     "output_type": "stream",
     "text": [
      "LR-GD: 100%|██████████| 2000/2000 [00:01<00:00, 1245.11it/s]\n"
     ]
    },
    {
     "name": "stdout",
     "output_type": "stream",
     "text": [
      "LR-GD AUC: 0.973\n",
      "LR-GD Acc: 0.933\n"
     ]
    }
   ],
   "source": [
    "def train_logistic_regression_gd(a, name=\"LR-GD\", num_iter=100):\n",
    "    plot = ModelTrainingCurve()\n",
    "    learning_curves[name] = plot\n",
    "\n",
    "    m = LogisticRegressionModel.random(D)\n",
    "    # Alpha is the 'learning rate'.\n",
    "    alpha = a\n",
    "\n",
    "    for _ in tqdm(range(num_iter), total=num_iter, desc=name):\n",
    "        # Each step is scaled by alpha, to control how fast we move, overall:\n",
    "        m.weights += alpha * compute_gradient_update(m, X_train, y_train)\n",
    "        # record performance:\n",
    "        plot.add_sample(m, X_train, y_train, X_vali, y_vali)\n",
    "    return m\n",
    "\n",
    "m = train_logistic_regression_gd(a=1, num_iter=2000)\n",
    "print(\"LR-GD AUC: {:.3}\".format(np.mean(bootstrap_auc(m, X_vali, y_vali))))\n",
    "print(\"LR-GD Acc: {:.3}\".format(m.score(X_vali, y_vali)))"
   ]
  },
  {
   "cell_type": "code",
   "execution_count": 40,
   "id": "256b8843",
   "metadata": {},
   "outputs": [
    {
     "name": "stderr",
     "output_type": "stream",
     "text": [
      "LR-SGD: 100%|██████████| 2000/2000 [00:03<00:00, 659.73it/s]\n"
     ]
    },
    {
     "name": "stdout",
     "output_type": "stream",
     "text": [
      "LR-SGD AUC: 0.973\n",
      "LR-SGD Acc: 0.931\n"
     ]
    }
   ],
   "source": [
    "def train_logistic_regression_sgd_opt(a, name=\"LR-SGD\", num_iter=100, minibatch_size=512):\n",
    "    \"\"\" This is bootstrap-sampling minibatch SGD \"\"\"\n",
    "    plot = ModelTrainingCurve()\n",
    "    learning_curves[name] = plot\n",
    "\n",
    "    m = LogisticRegressionModel.random(D)\n",
    "    alpha = a\n",
    "    n_samples = max(1, N // minibatch_size)\n",
    "\n",
    "    for _ in tqdm(range(num_iter), total=num_iter, desc=name):\n",
    "        for _ in range(n_samples):\n",
    "            X_mb, y_mb = resample(X_train, y_train, n_samples=minibatch_size)\n",
    "            m.weights += alpha * compute_gradient_update(m, X_mb, y_mb)\n",
    "        # record performance:\n",
    "        plot.add_sample(m, X_train, y_train, X_vali, y_vali)\n",
    "    return m\n",
    "\n",
    "m = train_logistic_regression_sgd_opt(a=1, num_iter=2000)\n",
    "print(\"LR-SGD AUC: {:.3}\".format(np.mean(bootstrap_auc(m, X_vali, y_vali))))\n",
    "print(\"LR-SGD Acc: {:.3}\".format(m.score(X_vali, y_vali)))"
   ]
  },
  {
   "cell_type": "code",
   "execution_count": 41,
   "id": "6517e5b3",
   "metadata": {},
   "outputs": [
    {
     "data": {
      "image/png": "[encoded data removed]",
      "text/plain": [
       "<Figure size 432x288 with 1 Axes>"
      ]
     },
     "metadata": {
      "needs_background": "light"
     },
     "output_type": "display_data"
    },
    {
     "data": {
      "image/png": "[encoded data removed]",
      "text/plain": [
       "<Figure size 432x288 with 1 Axes>"
      ]
     },
     "metadata": {
      "needs_background": "light"
     },
     "output_type": "display_data"
    }
   ],
   "source": [
    "## Create training curve plots:\n",
    "import matplotlib.pyplot as plt\n",
    "\n",
    "for key, dataset in learning_curves.items():\n",
    "    xs = np.array(list(range(len(dataset.train))))\n",
    "    plt.plot(xs, dataset.train, label=\"{}\".format(key), alpha=0.7)\n",
    "plt.title(\"Training Curves\")\n",
    "plt.xlabel(\"Iteration\")\n",
    "plt.ylabel(\"Accuracy\")\n",
    "plt.legend()\n",
    "plt.tight_layout()\n",
    "plt.savefig(\"graphs/p12-training-curves.png\")\n",
    "plt.show()\n",
    "\n",
    "## Create validation curve plots:\n",
    "for key, dataset in learning_curves.items():\n",
    "    xs = np.array(list(range(len(dataset.validation))))\n",
    "    plt.plot(xs, dataset.validation, label=\"{}\".format(key), alpha=0.7)\n",
    "plt.title(\"Validation Curves\")\n",
    "plt.xlabel(\"Iteration\")\n",
    "plt.ylabel(\"Accuracy\")\n",
    "plt.legend()\n",
    "plt.tight_layout()\n",
    "plt.savefig(\"graphs/p12-vali-curves.png\")\n",
    "plt.show()"
   ]
  },
  {
   "cell_type": "markdown",
   "id": "97e4d1a0",
   "metadata": {},
   "source": [
    "# TODO:\n",
    "#\n",
    "### 1. pick SGD or GD (I recommend SGD)"
   ]
  },
  {
   "cell_type": "markdown",
   "id": "9244dc3a",
   "metadata": {},
   "source": [
    "i looked at both"
   ]
  },
  {
   "cell_type": "markdown",
   "id": "453732a6",
   "metadata": {},
   "source": [
    "### 2. pick a smaller max_iter that gets good performance."
   ]
  },
  {
   "cell_type": "markdown",
   "id": "212cc729",
   "metadata": {},
   "source": [
    "max_iter = 1000"
   ]
  },
  {
   "cell_type": "markdown",
   "id": "ac754bd6",
   "metadata": {},
   "source": [
    "##### Do either A or B:\n",
    "\n",
    "##### (A) Explore Learning Rates:\n",
    "\n",
    "##### 3. make ``alpha``, the learning rate, a parameter of the train function."
   ]
  },
  {
   "cell_type": "markdown",
   "id": "46184730",
   "metadata": {},
   "source": [
    "done"
   ]
  },
  {
   "cell_type": "markdown",
   "id": "b23a1b1f",
   "metadata": {},
   "source": [
    "##### 4. make a graph including some faster and slower alphas:\n",
    "##### .... alpha = [0.05, 0.1, 0.5, 1.0]\n",
    "##### .... what do you notice?"
   ]
  },
  {
   "cell_type": "markdown",
   "id": "0755eacb",
   "metadata": {},
   "source": [
    "The alpha of 1 converges faster than 0.05"
   ]
  },
  {
   "cell_type": "markdown",
   "id": "5f1706c3",
   "metadata": {},
   "source": [
    "##### (B) Explore 'Automatic/Early Stopping'\n",
    "\n",
    "##### 3. split the 'training' data into **another** validation set."
   ]
  },
  {
   "cell_type": "markdown",
   "id": "54e56f4b",
   "metadata": {},
   "source": []
  },
  {
   "cell_type": "markdown",
   "id": "6d8a7f6a",
   "metadata": {},
   "source": [
    "##### 4. modify the SGD/GD loop to keep track of loss/accuarcy on this mini validation set at each iteration.\n",
    "##### 5. add a tolerance parameter, and stop looping when the loss/accuracy on the mini validation set stops going down."
   ]
  },
  {
   "cell_type": "markdown",
   "id": "d3e7ac92",
   "metadata": {},
   "source": []
  }
 ],
 "metadata": {
  "kernelspec": {
   "display_name": "Python 3",
   "language": "python",
   "name": "python3"
  },
  "language_info": {
   "codemirror_mode": {
    "name": "ipython",
    "version": 3
   },
   "file_extension": ".py",
   "mimetype": "text/x-python",
   "name": "python",
   "nbconvert_exporter": "python",
   "pygments_lexer": "ipython3",
   "version": "3.7.3"
  }
 },
 "nbformat": 4,
 "nbformat_minor": 5
}
