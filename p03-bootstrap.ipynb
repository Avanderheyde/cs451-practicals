{
 "cells": [
  {
   "cell_type": "code",
   "execution_count": 1,
   "metadata": {},
   "outputs": [],
   "source": [
    "\"\"\"\n",
    "In this lab, we'll go ahead and use the sklearn API to compare some real models over real data!\n",
    "Same data as last time, for now.\n",
    "\n",
    "Documentation:\n",
    "https://scikit-learn.org/stable/modules/generated/sklearn.tree.DecisionTreeClassifier.html\n",
    "\n",
    "We'll need to install sklearn, and numpy.\n",
    "Use pip:\n",
    "\n",
    "    # install everything from the requirements file.\n",
    "    pip install -r requirements.txt\n",
    "\"\"\"\n",
    "\n",
    "# We won't be able to get past these import statments if you don't install the libraries!\n",
    "# external libraries:\n",
    "from sklearn.linear_model import Perceptron\n",
    "from sklearn.tree import DecisionTreeClassifier\n",
    "from sklearn.utils import resample\n",
    "from sklearn.metrics import accuracy_score\n",
    "import numpy as np\n",
    "import matplotlib.pyplot as plt\n",
    "\n",
    "# standard python\n",
    "import json\n",
    "from dataclasses import dataclass\n",
    "from typing import Dict, Any, List\n",
    "\n",
    "# helper functions I made\n",
    "from shared import dataset_local_path, TODO"
   ]
  },
  {
   "cell_type": "code",
   "execution_count": 2,
   "metadata": {},
   "outputs": [],
   "source": [
    "#%% load up the data\n",
    "examples = []\n",
    "ys = []\n",
    "\n",
    "with open(dataset_local_path(\"poetry_id.jsonl\")) as fp:\n",
    "    for line in fp:\n",
    "        info = json.loads(line)\n",
    "        # Note: the data contains a whole bunch of extra stuff; we just want numeric features for now.\n",
    "        keep = info[\"features\"]\n",
    "        # whether or not it's poetry is our label.\n",
    "        ys.append(info[\"poetry\"])\n",
    "        # hold onto this single dictionary.\n",
    "        examples.append(keep)"
   ]
  },
  {
   "cell_type": "code",
   "execution_count": 3,
   "metadata": {},
   "outputs": [
    {
     "name": "stdout",
     "output_type": "stream",
     "text": [
      "Features as (2772, 38) matrix.\n"
     ]
    }
   ],
   "source": [
    "#%% Convert data to 'matrices'\n",
    "# We did this manually in p02, but SciKit-Learn has a tool for that:\n",
    "\n",
    "from sklearn.feature_extraction import DictVectorizer\n",
    "\n",
    "feature_numbering = DictVectorizer(sort=True)\n",
    "feature_numbering.fit(examples)\n",
    "X = feature_numbering.transform(examples)\n",
    "\n",
    "print(\"Features as {} matrix.\".format(X.shape))\n",
    "#%% Set up our ML problem:\n",
    "\n",
    "from sklearn.model_selection import train_test_split\n",
    "\n",
    "RANDOM_SEED = 12345678\n",
    "\n",
    "# Numpy-arrays are more useful than python's lists.\n",
    "y = np.array(ys)\n",
    "# split off train/validate (tv) pieces.\n",
    "X_tv, X_test, y_tv, y_test = train_test_split(\n",
    "    X, y, train_size=0.75, shuffle=True, random_state=RANDOM_SEED\n",
    ")\n",
    "# split off train, validate from (tv) pieces.\n",
    "X_train, X_vali, y_train, y_vali = train_test_split(\n",
    "    X_tv, y_tv, train_size=0.66, shuffle=True, random_state=RANDOM_SEED\n",
    ")\n",
    "\n",
    "# In this lab, we'll ignore test data, for the most part."
   ]
  },
  {
   "cell_type": "code",
   "execution_count": 4,
   "metadata": {},
   "outputs": [],
   "source": [
    "#%% DecisionTree Parameters:\n",
    "params = {\n",
    "    \"criterion\": \"gini\",\n",
    "    \"splitter\": \"best\",\n",
    "    \"max_depth\": 5,\n",
    "}\n",
    "\n",
    "# train 100 different models, with different sources of randomness:\n",
    "N_MODELS = 100\n",
    "# sample 1 of them 100 times, to get a distribution of data for that!\n",
    "N_SAMPLES = 100\n",
    "\n",
    "seed_based_accuracies = []\n",
    "for randomness in range(N_MODELS):\n",
    "    f_seed = DecisionTreeClassifier(random_state=RANDOM_SEED + randomness, **params)\n",
    "    f_seed.fit(X_train, y_train)\n",
    "    seed_based_accuracies.append(f_seed.score(X_vali, y_vali))\n",
    "\n",
    "\n",
    "bootstrap_based_accuracies = []\n",
    "# single seed, bootstrap-sampling of predictions:\n",
    "f_single = DecisionTreeClassifier(random_state=RANDOM_SEED, **params)\n",
    "f_single.fit(X_train, y_train)\n",
    "y_pred = f_single.predict(X_vali)\n",
    "\n",
    "# do the bootstrap:\n",
    "for trial in range(N_SAMPLES):\n",
    "    sample_pred, sample_truth = resample(\n",
    "        y_pred, y_vali, random_state=trial + RANDOM_SEED\n",
    "    )\n",
    "    score = accuracy_score(y_true=sample_truth, y_pred=sample_pred)\n",
    "    bootstrap_based_accuracies.append(score)"
   ]
  },
  {
   "cell_type": "code",
   "execution_count": 5,
   "metadata": {
    "scrolled": true
   },
   "outputs": [
    {
     "data": {
      "image/png": "[encoded data removed]",
      "text/plain": [
       "<Figure size 432x288 with 1 Axes>"
      ]
     },
     "metadata": {
      "needs_background": "light"
     },
     "output_type": "display_data"
    }
   ],
   "source": [
    "boxplot_data: List[List[float]] = [seed_based_accuracies, bootstrap_based_accuracies]\n",
    "plt.boxplot(boxplot_data)\n",
    "plt.xticks(ticks=[1, 2], labels=[\"Seed-Based\", \"Bootstrap-Based\"])\n",
    "plt.xlabel(\"Sampling Method\")\n",
    "plt.ylabel(\"Accuracy\")\n",
    "plt.ylim([0.8, 1.0])\n",
    "plt.show()\n",
    "# if plt.show is not working, try opening the result of plt.savefig instead!\n",
    "# plt.savefig(\"dtree-variance.png\") # This doesn't work well on repl.it."
   ]
  },
  {
   "cell_type": "markdown",
   "metadata": {},
   "source": [
    "### 1. understand/compare the bounds generated between the two methods."
   ]
  },
  {
   "cell_type": "markdown",
   "metadata": {},
   "source": [
    "The bounds of the bootsrap have more variance. There is more variety of accuracies from resampling than from changing the the random seed. "
   ]
  },
  {
   "cell_type": "markdown",
   "metadata": {},
   "source": [
    "### 2A. Evaluation++: what happens to the variance if we do K bootstrap samples for each of M models?"
   ]
  },
  {
   "cell_type": "code",
   "execution_count": 6,
   "metadata": {},
   "outputs": [],
   "source": [
    "#%% DecisionTree Parameters:\n",
    "params = {\n",
    "    \"criterion\": \"gini\",\n",
    "    \"splitter\": \"best\",\n",
    "    \"max_depth\": 5,\n",
    "}\n",
    "\n",
    "# train 100 different models, with different sources of randomness:\n",
    "N_MODELS = 100\n",
    "# sample 1 of them 100 times, to get a distribution of data for that!\n",
    "N_SAMPLES = 1000\n",
    "\n",
    "seed_based_accuracies = []\n",
    "for randomness in range(N_MODELS):\n",
    "    f_seed = DecisionTreeClassifier(random_state=RANDOM_SEED + randomness, **params)\n",
    "    f_seed.fit(X_train, y_train)\n",
    "    seed_based_accuracies.append(f_seed.score(X_vali, y_vali))\n",
    "\n",
    "\n",
    "bootstrap_based_accuracies = []\n",
    "# single seed, bootstrap-sampling of predictions:\n",
    "f_single = DecisionTreeClassifier(random_state=RANDOM_SEED, **params)\n",
    "f_single.fit(X_train, y_train)\n",
    "y_pred = f_single.predict(X_vali)\n",
    "\n",
    "# do the bootstrap:\n",
    "for trial in range(N_SAMPLES):\n",
    "    sample_pred, sample_truth = resample(\n",
    "        y_pred, y_vali, random_state=trial + RANDOM_SEED\n",
    "    )\n",
    "    score = accuracy_score(y_true=sample_truth, y_pred=sample_pred)\n",
    "    bootstrap_based_accuracies.append(score)"
   ]
  },
  {
   "cell_type": "code",
   "execution_count": 7,
   "metadata": {
    "scrolled": true
   },
   "outputs": [
    {
     "data": {
      "image/png": "[encoded data removed]",
      "text/plain": [
       "<Figure size 432x288 with 1 Axes>"
      ]
     },
     "metadata": {
      "needs_background": "light"
     },
     "output_type": "display_data"
    }
   ],
   "source": [
    "boxplot_data: List[List[float]] = [seed_based_accuracies, bootstrap_based_accuracies]\n",
    "plt.boxplot(boxplot_data)\n",
    "plt.xticks(ticks=[1, 2], labels=[\"Seed-Based\", \"Bootstrap-Based\"])\n",
    "plt.xlabel(\"Sampling Method\")\n",
    "plt.ylabel(\"Accuracy\")\n",
    "plt.ylim([0.85, 0.95])\n",
    "plt.show()"
   ]
  },
  {
   "cell_type": "markdown",
   "metadata": {},
   "source": [
    "compared to the k=100 and m = 100 (below) the k=1000 and m=100 (above) has a lot more variance which makes sense because we are taking a much larger sample "
   ]
  },
  {
   "cell_type": "code",
   "execution_count": 32,
   "metadata": {},
   "outputs": [
    {
     "data": {
      "image/png": "[encoded data removed]",
      "text/plain": [
       "<Figure size 432x288 with 1 Axes>"
      ]
     },
     "metadata": {
      "needs_background": "light"
     },
     "output_type": "display_data"
    }
   ],
   "source": [
    "#don't run this\n",
    "boxplot_data: List[List[float]] = [seed_based_accuracies, bootstrap_based_accuracies]\n",
    "plt.boxplot(boxplot_data)\n",
    "plt.xticks(ticks=[1, 2], labels=[\"Seed-Based\", \"Bootstrap-Based\"])\n",
    "plt.xlabel(\"Sampling Method\")\n",
    "plt.ylabel(\"Accuracy\")\n",
    "plt.ylim([0.85, 0.95])\n",
    "plt.show()"
   ]
  },
  {
   "cell_type": "markdown",
   "metadata": {},
   "source": [
    "####  2B. Return to experimenting on the decision tree: modify the plot to show ~10 max_depths of the decision tree"
   ]
  },
  {
   "cell_type": "code",
   "execution_count": 9,
   "metadata": {},
   "outputs": [],
   "source": [
    "# train 100 different models, with different sources of randomness:\n",
    "N_MODELS = 100\n",
    "# sample 1 of them 100 times, to get a distribution of data for that!\n",
    "N_SAMPLES = 100\n",
    "\n",
    "depth_scores = {}\n",
    "for i in range(1,10):\n",
    "    params = {\n",
    "    \"criterion\": \"gini\",\n",
    "    \"splitter\": \"best\",\n",
    "    \"max_depth\": i,\n",
    "    }\n",
    "    bootstrap_based_accuracies = []\n",
    "    # single seed, bootstrap-sampling of predictions:\n",
    "    f_single = DecisionTreeClassifier(random_state=RANDOM_SEED, **params)\n",
    "    f_single.fit(X_train, y_train)\n",
    "    y_pred = f_single.predict(X_vali)\n",
    "\n",
    "    # do the bootstrap:\n",
    "    for trial in range(N_SAMPLES):\n",
    "        sample_pred, sample_truth = resample(\n",
    "            y_pred, y_vali, random_state=trial + RANDOM_SEED\n",
    "        )\n",
    "        score = accuracy_score(y_true=sample_truth, y_pred=sample_pred)\n",
    "        bootstrap_based_accuracies.append(score)\n",
    "    depth_scores[i] = bootstrap_based_accuracies"
   ]
  },
  {
   "cell_type": "code",
   "execution_count": 19,
   "metadata": {},
   "outputs": [
    {
     "data": {
      "image/png": "[encoded data removed]",
      "text/plain": [
       "<Figure size 432x288 with 1 Axes>"
      ]
     },
     "metadata": {
      "needs_background": "light"
     },
     "output_type": "display_data"
    }
   ],
   "source": [
    "boxplot_data: List[List[float]] = depth_scores.values()\n",
    "plt.boxplot(boxplot_data)\n",
    "plt.xticks(ticks=range(1,10), labels=depth_scores.keys())\n",
    "plt.xlabel(\"Sampling Method\")\n",
    "plt.ylabel(\"Accuracy\")\n",
    "plt.ylim([0.7, 1.0])\n",
    "plt.show()"
   ]
  },
  {
   "cell_type": "code",
   "execution_count": null,
   "metadata": {},
   "outputs": [],
   "source": []
  }
 ],
 "metadata": {
  "kernelspec": {
   "display_name": "Python 3",
   "language": "python",
   "name": "python3"
  },
  "language_info": {
   "codemirror_mode": {
    "name": "ipython",
    "version": 3
   },
   "file_extension": ".py",
   "mimetype": "text/x-python",
   "name": "python",
   "nbconvert_exporter": "python",
   "pygments_lexer": "ipython3",
   "version": "3.7.3"
  }
 },
 "nbformat": 4,
 "nbformat_minor": 2
}
