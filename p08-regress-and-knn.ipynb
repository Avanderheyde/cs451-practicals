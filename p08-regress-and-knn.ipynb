{
 "cells": [
  {
   "cell_type": "code",
   "execution_count": 14,
   "metadata": {},
   "outputs": [],
   "source": [
    "from sklearn.model_selection import train_test_split\n",
    "from sklearn.feature_extraction import DictVectorizer\n",
    "import numpy as np\n",
    "from scipy.spatial.distance import euclidean\n",
    "from typing import List, Tuple\n",
    "from tqdm import tqdm\n",
    "\n",
    "import csv\n",
    "\n",
    "from shared import dataset_local_path"
   ]
  },
  {
   "cell_type": "code",
   "execution_count": 15,
   "metadata": {},
   "outputs": [],
   "source": [
    "ys = []\n",
    "examples = []\n",
    "\n",
    "with open(dataset_local_path(\"AirQualityUCI.csv\")) as fp:\n",
    "    # This is a CSV file where the separators are not commas!\n",
    "    rows = csv.reader(fp, delimiter=\";\")\n",
    "    header = next(rows)\n",
    "    for row in rows:\n",
    "        datapoint = {}\n",
    "        # {'Date': '10/03/2004', 'Time': '18.00.00',\n",
    "        #  'CO(GT)': '2,6', 'PT08.S1(CO)': '1360', 'NMHC(GT)': '150', 'C6H6(GT)': '11,9',\n",
    "        #  'PT08.S2(NMHC)': '1046', 'NOx(GT)': '166', 'PT08.S3(NOx)': '1056',\n",
    "        #  'NO2(GT)': '113', 'PT08.S4(NO2)': '1692', 'PT08.S5(O3)': '1268',\n",
    "        #  'T': '13,6', 'RH': '48,9', 'AH': '0,7578', '': ''}\n",
    "        date = None\n",
    "        time = None\n",
    "        for (column_name, column_value) in zip(header, row):\n",
    "            if column_value == \"\" or column_name == \"\":\n",
    "                continue\n",
    "            elif column_name == \"Date\":\n",
    "                date = column_value\n",
    "            elif column_name == \"Time\":\n",
    "                time = column_value\n",
    "            else:\n",
    "                as_float = float(column_value.replace(\",\", \".\"))\n",
    "                if as_float == -200:\n",
    "                    continue\n",
    "                datapoint[column_name] = as_float\n",
    "        if not datapoint:\n",
    "            continue\n",
    "        if \"CO(GT)\" not in datapoint:\n",
    "            continue\n",
    "        target = datapoint[\"CO(GT)\"]\n",
    "        del datapoint[\"CO(GT)\"]\n",
    "        ys.append(target)\n",
    "        examples.append(datapoint)"
   ]
  },
  {
   "cell_type": "code",
   "execution_count": 16,
   "metadata": {},
   "outputs": [],
   "source": [
    "#%% Split data: (note 90% of 90% to make vali/test smaller)\n",
    "\n",
    "RANDOM_SEED = 1234\n",
    "\n",
    "## split off train/validate (tv) pieces.\n",
    "ex_tv, ex_test, y_tv, y_test = train_test_split(\n",
    "    examples,\n",
    "    ys,\n",
    "    train_size=0.9,\n",
    "    shuffle=True,\n",
    "    random_state=RANDOM_SEED,\n",
    ")\n",
    "# split off train, validate from (tv) pieces.\n",
    "ex_train, ex_vali, y_train, y_vali = train_test_split(\n",
    "    ex_tv, y_tv, train_size=0.9, shuffle=True, random_state=RANDOM_SEED\n",
    ")"
   ]
  },
  {
   "cell_type": "code",
   "execution_count": 17,
   "metadata": {},
   "outputs": [
    {
     "name": "stdout",
     "output_type": "stream",
     "text": [
      "(6215, 12) (691, 12)\n"
     ]
    }
   ],
   "source": [
    "#%% vectorize:\n",
    "\n",
    "from sklearn.preprocessing import StandardScaler, MinMaxScaler\n",
    "\n",
    "feature_numbering = DictVectorizer(sparse=False)\n",
    "# Learn columns from training data (again)\n",
    "feature_numbering.fit(ex_train)\n",
    "rX_train = feature_numbering.transform(ex_train)\n",
    "rX_vali = feature_numbering.transform(ex_vali)\n",
    "rX_test = feature_numbering.transform(ex_test)\n",
    "\n",
    "scaling = StandardScaler()\n",
    "X_train = scaling.fit_transform(rX_train)\n",
    "X_vali = scaling.transform(rX_vali)\n",
    "X_test = scaling.transform(rX_test)\n",
    "\n",
    "print(X_train.shape, X_vali.shape)"
   ]
  },
  {
   "cell_type": "code",
   "execution_count": 29,
   "metadata": {},
   "outputs": [
    {
     "name": "stdout",
     "output_type": "stream",
     "text": [
      "0.9149485254385593\n"
     ]
    }
   ],
   "source": [
    "#%% train a model:\n",
    "from sklearn.tree import DecisionTreeRegressor\n",
    "from sklearn.linear_model import SGDRegressor\n",
    "from sklearn.neural_network import MLPRegressor\n",
    "from sklearn.neighbors import KNeighborsRegressor\n",
    "\n",
    "knn = KNeighborsRegressor(n_neighbors=5, weights=\"distance\")\n",
    "knn.fit(X_train, y_train)\n",
    "print(knn.score(X_vali, y_vali))"
   ]
  },
  {
   "cell_type": "markdown",
   "metadata": {},
   "source": [
    "## Lab TODO:\n",
    " Mandatory:\n",
    " - Try some other regression models.  \n",
    " "
   ]
  },
  {
   "cell_type": "code",
   "execution_count": 30,
   "metadata": {},
   "outputs": [
    {
     "name": "stdout",
     "output_type": "stream",
     "text": [
      "0.8194153887149963\n",
      "0.8727287911202214\n",
      "0.9158678900636842\n"
     ]
    }
   ],
   "source": [
    "dt = DecisionTreeRegressor()\n",
    "dt.fit(X_train, y_train)\n",
    "print(dt.score(X_vali, y_vali))\n",
    "\n",
    "sgd = SGDRegressor()\n",
    "sgd.fit(X_train, y_train)\n",
    "print(sgd.score(X_vali, y_vali))\n",
    "\n",
    "mlp = MLPRegressor()\n",
    "mlp.fit(X_train, y_train)\n",
    "print(mlp.score(X_vali, y_vali))"
   ]
  },
  {
   "cell_type": "markdown",
   "metadata": {},
   "source": [
    " Options:\n",
    "    - Try all the other regression models.\n",
    "    - Research the AirQualityUCI dataset to see what the best approaches are!\n",
    "    - Try at least one, plot a (y_pred, y_actual) scatter plot (e.g., visualize correlation / R**2)\n",
    "    - [Difficult] see the brute-force kNN below, try to refactor the loops out of python."
   ]
  },
  {
   "cell_type": "code",
   "execution_count": 25,
   "metadata": {},
   "outputs": [],
   "source": [
    "y_preds = knn.predict(X_vali)"
   ]
  },
  {
   "cell_type": "code",
   "execution_count": 28,
   "metadata": {},
   "outputs": [
    {
     "data": {
      "image/png": "[encoded data removed]",
      "text/plain": [
       "<Figure size 432x288 with 1 Axes>"
      ]
     },
     "metadata": {
      "needs_background": "light"
     },
     "output_type": "display_data"
    }
   ],
   "source": [
    "import matplotlib.pyplot as plt\n",
    "\n",
    "plt.scatter(y_preds, y_vali)\n",
    "plt.show()"
   ]
  },
  {
   "cell_type": "code",
   "execution_count": 24,
   "metadata": {},
   "outputs": [
    {
     "name": "stderr",
     "output_type": "stream",
     "text": [
      "kNN Brute Force: 100%|██████████| 691/691 [01:13<00:00,  9.45it/s]"
     ]
    },
    {
     "name": "stdout",
     "output_type": "stream",
     "text": [
      "Manual KNN: 0.9081994010993317\n"
     ]
    },
    {
     "name": "stderr",
     "output_type": "stream",
     "text": [
      "\n"
     ]
    }
   ],
   "source": [
    "# %% kNN Brute Force Below:\n",
    "# Note, this is really slow (see progress bar!)\n",
    "def knn_regress(\n",
    "    X_train: np.ndarray, y_train: np.ndarray, x: np.ndarray, k: int = 3\n",
    ") -> float:\n",
    "    (num_examples, num_features) = X_train.shape\n",
    "    assert num_examples == len(y_train)\n",
    "    assert len(x) == num_features\n",
    "    assert k < num_examples\n",
    "\n",
    "    # fill in list of distances to training labels:\n",
    "    # (distance, y_value)\n",
    "    # This should be a heap, not a list, but python's heapq is annoying.\n",
    "    scored_examples: List[Tuple[float, float]] = []\n",
    "    for (i, row) in enumerate(X_train):\n",
    "        distance = euclidean(row, x)\n",
    "        scored_examples.append((distance, y_train[i]))\n",
    "\n",
    "    # find closest-k:\n",
    "    sum_y = 0.0\n",
    "    for (_distance, close_y) in sorted(scored_examples)[:k]:\n",
    "        sum_y += close_y\n",
    "    return sum_y / k\n",
    "\n",
    "\n",
    "do_slow = True\n",
    "\n",
    "if do_slow:\n",
    "    # Loop over each element of validation set, and predict based on training.\n",
    "    y_vali_pred = []\n",
    "    for row_index in tqdm(range(len(y_vali)), desc=\"kNN Brute Force\"):\n",
    "        example = X_vali[row_index, :]\n",
    "        y_vali_pred.append(knn_regress(X_train, y_train, example, k=3))\n",
    "\n",
    "    from sklearn.metrics import r2_score\n",
    "\n",
    "    print(\"Manual KNN:\", r2_score(y_vali, y_vali_pred))"
   ]
  },
  {
   "cell_type": "markdown",
   "metadata": {},
   "source": [
    "## TODO (optional, Challenging!) (efficiency / matrix ops)\n",
    "\n",
    "Converting our Manual KNN to use scipy.spatial.distance.cdist  \n",
    "*should* allow it to compute a matrix of distances between  \n",
    "X_train and X_vali as 1 call to the scipy C/Fortran library.  \n",
    "\n",
    "... This may be significantly faster.  \n",
    "... You'll then end up here or so: https://stackoverflow.com/questions/6910641/how-do-i-get-indices-of-n-maximum-values-in-a-numpy-array  \n",
    "... Seriously, I find doing this stuff annoying.  \n",
    "... Good luck!  "
   ]
  },
  {
   "cell_type": "code",
   "execution_count": null,
   "metadata": {},
   "outputs": [],
   "source": []
  }
 ],
 "metadata": {
  "kernelspec": {
   "display_name": "Python 3",
   "language": "python",
   "name": "python3"
  },
  "language_info": {
   "codemirror_mode": {
    "name": "ipython",
    "version": 3
   },
   "file_extension": ".py",
   "mimetype": "text/x-python",
   "name": "python",
   "nbconvert_exporter": "python",
   "pygments_lexer": "ipython3",
   "version": "3.7.3"
  }
 },
 "nbformat": 4,
 "nbformat_minor": 2
}
