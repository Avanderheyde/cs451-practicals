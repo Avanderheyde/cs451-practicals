{
 "cells": [
  {
   "cell_type": "code",
   "execution_count": 7,
   "metadata": {},
   "outputs": [],
   "source": [
    "#%%\n",
    "from dataclasses import dataclass\n",
    "import numpy as np\n",
    "from sklearn import metrics\n",
    "from sklearn.model_selection import train_test_split\n",
    "from sklearn.linear_model import SGDRegressor, LinearRegression\n",
    "from sklearn.ensemble import RandomForestRegressor\n",
    "from sklearn.neighbors import KNeighborsRegressor\n",
    "from shared import (\n",
    "    dataset_local_path,\n",
    "    bootstrap_r2,\n",
    "    simple_boxplot,\n",
    ")\n",
    "import random\n",
    "import pandas as pd\n",
    "from sklearn.impute import SimpleImputer\n",
    "from sklearn.preprocessing import StandardScaler"
   ]
  },
  {
   "cell_type": "code",
   "execution_count": 8,
   "metadata": {},
   "outputs": [
    {
     "name": "stdout",
     "output_type": "stream",
     "text": [
      "(9471, 17)\n",
      "(9471, 15)\n",
      "(7674, 15)\n",
      "   CO(GT)  PT08.S1(CO)  NMHC(GT)  C6H6(GT)  PT08.S2(NMHC)  NOx(GT)  \\\n",
      "0     2.6       1360.0     150.0      11.9         1046.0    166.0   \n",
      "1     2.0       1292.0     112.0       9.4          955.0    103.0   \n",
      "2     2.2       1402.0      88.0       9.0          939.0    131.0   \n",
      "3     2.2       1376.0      80.0       9.2          948.0    172.0   \n",
      "4     1.6       1272.0      51.0       6.5          836.0    131.0   \n",
      "\n",
      "   PT08.S3(NOx)  NO2(GT)  PT08.S4(NO2)  PT08.S5(O3)     T    RH      AH  \n",
      "0        1056.0    113.0        1692.0       1268.0  13.6  48.9  0.7578  \n",
      "1        1174.0     92.0        1559.0        972.0  13.3  47.7  0.7255  \n",
      "2        1140.0    114.0        1555.0       1074.0  11.9  54.0  0.7502  \n",
      "3        1092.0    122.0        1584.0       1203.0  11.0  60.0  0.7867  \n",
      "4        1205.0    116.0        1490.0       1110.0  11.2  59.6  0.7888  \n"
     ]
    }
   ],
   "source": [
    "# start off by seeding random number generators:\n",
    "RANDOM_SEED = 12345\n",
    "random.seed(RANDOM_SEED)\n",
    "np.random.seed(RANDOM_SEED)\n",
    "\n",
    "# Load the AirQualityUCI Dataset:\n",
    "df = pd.read_csv(dataset_local_path(\"AirQualityUCI.csv\"), sep=\";\", decimal=\",\")\n",
    "print(df.shape)\n",
    "# drop empty columns:\n",
    "df = df.dropna(how=\"all\", axis=\"columns\")\n",
    "print(df.shape)\n",
    "\n",
    "PREDICT_COL = \"CO(GT)\"\n",
    "\n",
    "# select only the rows where our 'y' is present:\n",
    "df = df[df[PREDICT_COL] > -200.0]\n",
    "print(df.shape)\n",
    "\n",
    "# delete Date/Time columns\n",
    "df.pop(\"Date\")\n",
    "df.pop(\"Time\")\n",
    "\n",
    "print(df.head())"
   ]
  },
  {
   "cell_type": "code",
   "execution_count": 9,
   "metadata": {},
   "outputs": [],
   "source": [
    "#%%\n",
    "#  Now train/test split:\n",
    "tv_f, test_f = train_test_split(df, test_size=0.25, random_state=RANDOM_SEED)\n",
    "train_f, vali_f = train_test_split(tv_f, test_size=0.25, random_state=RANDOM_SEED)\n",
    "\n",
    "y_train = train_f.pop(PREDICT_COL)\n",
    "y_vali = vali_f.pop(PREDICT_COL)\n",
    "y_test = test_f.pop(PREDICT_COL)"
   ]
  },
  {
   "cell_type": "code",
   "execution_count": 10,
   "metadata": {},
   "outputs": [],
   "source": [
    "#%%\n",
    "# Now process data:\n",
    "# Note, we don't NEED DictVectorizer... why?\n",
    "\n",
    "# Let's fix missing values;\n",
    "fix_missing = SimpleImputer(missing_values=-200.0)\n",
    "\n",
    "scaler = StandardScaler()\n",
    "\n",
    "X_train = scaler.fit_transform(fix_missing.fit_transform(train_f))\n",
    "X_vali = scaler.transform(fix_missing.transform(vali_f))\n",
    "X_test = scaler.transform(fix_missing.transform(test_f))"
   ]
  },
  {
   "cell_type": "code",
   "execution_count": 11,
   "metadata": {},
   "outputs": [
    {
     "name": "stdout",
     "output_type": "stream",
     "text": [
      "rand[0] = -2.42\n",
      "rand[4] = -1.24\n",
      "rand[136] = -0.832\n",
      "rand[339] = -0.0246\n",
      "rand[406] = 0.164\n",
      "['0.487', '0.312', '1.241', '-1.314', '-0.844', '0.131', '-0.163', '-0.857', '1.717', '-0.192', '-0.257', '0.562', '2.147']\n",
      "sgd[0] = 0.901\n",
      "sgd[2] = 0.901\n",
      "lr = 0.9\n",
      "ca[0] = 0.894\n",
      "ca[1] = 0.892\n",
      "ca[2] = 0.89\n"
     ]
    }
   ],
   "source": [
    "#%% Now let's build our models!\n",
    "\n",
    "\n",
    "def regress_eval(y_true, y_pred) -> float:\n",
    "    return metrics.r2_score(y_true=y_true, y_pred=y_pred)\n",
    "\n",
    "\n",
    "@dataclass\n",
    "class LinearRegressionModel:\n",
    "    # Managed to squeeze bias into this weights array by adding some +1s.\n",
    "    weights: np.ndarray\n",
    "\n",
    "    @staticmethod\n",
    "    def random(D: int) -> \"LinearRegressionModel\":\n",
    "        weights = np.random.randn(D + 1, 1)\n",
    "        return LinearRegressionModel(weights)\n",
    "\n",
    "    def improve_feature_weight(\n",
    "        self,\n",
    "        train_X: np.ndarray,\n",
    "        train_y: np.ndarray,\n",
    "        feature_id: int,\n",
    "        real_change: float = 0.0001,\n",
    "    ) -> bool:\n",
    "        changes = []\n",
    "        start_weights = np.copy(self.weights)\n",
    "        start_score = self.score(train_X, train_y)\n",
    "        # try zero:\n",
    "        self.weights[feature_id] = 0.0\n",
    "        changes.append((self.score(train_X, train_y), np.copy(self.weights)))\n",
    "        for dir in [-1, +1]:  # try bigger and smaller\n",
    "            for step in [0.001, 0.01, 0.1, 1, 2, 4, 8]:  # try a range of steps\n",
    "                weight = start_weights[feature_id] + dir * step\n",
    "                self.weights[feature_id] = weight\n",
    "                now_score = self.score(train_X, train_y)\n",
    "                changes.append(\n",
    "                    (now_score, np.copy(self.weights))\n",
    "                )  # score accuracy/auc/whatver\n",
    "        (best_score, best_weights) = max(changes, key=lambda t: t[0])\n",
    "        if (best_score - start_score) >= real_change:\n",
    "            self.weights = best_weights\n",
    "            return True\n",
    "        else:\n",
    "            self.weights = start_weights\n",
    "            return False\n",
    "\n",
    "    def predict(self, X: np.ndarray) -> np.ndarray:\n",
    "        \"\"\" Compute the signed distance from the self.weights hyperplane. \"\"\"\n",
    "        (N, D) = X.shape\n",
    "        assert self.weights[:D].shape == (D, 1)\n",
    "        # Matrix multiplication; sprinkle transpose and assert to get the shapes you want (or remember Linear Algebra)... or both!\n",
    "        output = np.dot(self.weights[:D].transpose(), X.transpose())\n",
    "        assert output.shape == (1, N)\n",
    "        return (output + self.weights[-1]).reshape((N,))\n",
    "\n",
    "    def score(self, X: np.ndarray, y: np.ndarray) -> float:\n",
    "        \"\"\" Take predictions and compute accuracy. \"\"\"\n",
    "        y_hat = self.predict(X)\n",
    "        return metrics.r2_score(np.asarray(y), y_hat)  # type:ignore\n",
    "\n",
    "\n",
    "(N, D) = X_train.shape\n",
    "\n",
    "graphs = {}\n",
    "\n",
    "best_score = 0.0\n",
    "best_model = None\n",
    "for i in range(1000):\n",
    "    m = LinearRegressionModel.random(D)\n",
    "    train_score = m.score(X_vali, y_vali)\n",
    "    if train_score > best_score or best_model is None:\n",
    "        best_score = train_score\n",
    "        best_model = m\n",
    "        print(\"rand[{}] = {:.3}\".format(i, train_score))\n",
    "\n",
    "print([\"{:1.3f}\".format(x[0]) for x in best_model.weights.tolist()])\n",
    "\n",
    "# graphs[\"Best-of-Random\"] = bootstrap_r2(best_model, X_vali, y_vali)\n",
    "\n",
    "# SGD uses derivatives to 'aim' it's search... faster than CA which explores every direction!\n",
    "for i in range(20):\n",
    "    sgd = SGDRegressor(random_state=i + RANDOM_SEED)\n",
    "    sgd.fit(X_train, y_train)\n",
    "    train_score = sgd.score(X_vali, y_vali)\n",
    "    if train_score > best_score or best_model is None:\n",
    "        best_score = train_score\n",
    "        best_model = sgd\n",
    "        print(\"sgd[{}] = {:.3}\".format(i, train_score))\n",
    "\n",
    "graphs[\"SGD\"] = bootstrap_r2(best_model, X_vali, y_vali)\n",
    "\n",
    "# Linear Regression solves for a solution to y = Ax; no randomness needed!\n",
    "lr = LinearRegression()\n",
    "lr.fit(X_train, y_train)\n",
    "train_score = lr.score(X_vali, y_vali)\n",
    "print(\"lr = {:.3}\".format(train_score))\n",
    "graphs[\"LR\"] = bootstrap_r2(lr, X_vali, y_vali)\n",
    "\n",
    "\n",
    "def ca_restart(loud=False):\n",
    "    ## MINI-CA\n",
    "    if loud:\n",
    "        print(\"### Coordinate Ascent ###\\n\\n\")\n",
    "    ca = LinearRegressionModel.random(D)\n",
    "    if loud:\n",
    "        print(\"ca.start = {:.3}\".format(ca.score(X_train, y_train)))\n",
    "    dims = list(range(D + 1))\n",
    "\n",
    "    # keep optimizing until we stop getting better!\n",
    "    while True:\n",
    "        any_better = False\n",
    "        random.shuffle(dims)\n",
    "        for d in dims:\n",
    "            better = ca.improve_feature_weight(X_train, y_train, feature_id=d)\n",
    "            if better:\n",
    "                any_better = True\n",
    "        if not any_better:\n",
    "            break\n",
    "        if loud:\n",
    "            print(\"w+ = {:.3}\".format(ca.score(X_train, y_train)))\n",
    "    return ca\n",
    "\n",
    "\n",
    "# Coordinate ascent; try them:\n",
    "best_score = 0.0\n",
    "best_model = None\n",
    "for i in range(3):\n",
    "    ca = ca_restart()\n",
    "    train_score = ca.score(X_vali, y_vali)\n",
    "    if train_score > best_score or best_model is None:\n",
    "        best_score = train_score\n",
    "        best_model = ca\n",
    "    print(\"ca[{}] = {:.3}\".format(i, train_score))\n",
    "\n",
    "graphs[\"CoordinateAscent\"] = bootstrap_r2(best_model, X_vali, y_vali)"
   ]
  },
  {
   "cell_type": "code",
   "execution_count": 12,
   "metadata": {},
   "outputs": [
    {
     "data": {
      "image/png": "[encoded data removed]",
      "text/plain": [
       "<Figure size 432x288 with 1 Axes>"
      ]
     },
     "metadata": {
      "needs_background": "light"
     },
     "output_type": "display_data"
    },
    {
     "data": {
      "text/plain": [
       "<module 'matplotlib.pyplot' from '/Users/Alderik/anaconda3/lib/python3.7/site-packages/matplotlib/pyplot.py'>"
      ]
     },
     "execution_count": 12,
     "metadata": {},
     "output_type": "execute_result"
    }
   ],
   "source": [
    "# --- now try some nonlinear models --- #\n",
    "rf = RandomForestRegressor()\n",
    "rf.fit(X_train, y_train)\n",
    "graphs[\"RF\"] = bootstrap_r2(rf, X_vali, y_vali)\n",
    "knn = KNeighborsRegressor()\n",
    "knn.fit(X_train, y_train)\n",
    "graphs[\"KNN\"] = bootstrap_r2(knn, X_vali, y_vali)\n",
    "\n",
    "# Graph everything:\n",
    "simple_boxplot(graphs, \"{} R**2\".format(PREDICT_COL), save=\"graphs/p11-r2-score.png\")"
   ]
  },
  {
   "cell_type": "markdown",
   "metadata": {},
   "source": [
    "\n",
    "### TODO:\n",
    "### 1. remove the 'best-of-random' graph, so you can see the other ones!"
   ]
  },
  {
   "cell_type": "markdown",
   "metadata": {},
   "source": [
    "done"
   ]
  },
  {
   "cell_type": "markdown",
   "metadata": {},
   "source": [
    "### 2. See if there's anything here that might help your project."
   ]
  },
  {
   "cell_type": "code",
   "execution_count": null,
   "metadata": {},
   "outputs": [],
   "source": []
  }
 ],
 "metadata": {
  "kernelspec": {
   "display_name": "Python 3",
   "language": "python",
   "name": "python3"
  },
  "language_info": {
   "codemirror_mode": {
    "name": "ipython",
    "version": 3
   },
   "file_extension": ".py",
   "mimetype": "text/x-python",
   "name": "python",
   "nbconvert_exporter": "python",
   "pygments_lexer": "ipython3",
   "version": "3.7.3"
  }
 },
 "nbformat": 4,
 "nbformat_minor": 2
}
