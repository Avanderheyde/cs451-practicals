{
 "cells": [
  {
   "cell_type": "code",
   "execution_count": 1,
   "metadata": {},
   "outputs": [],
   "source": [
    "#%%\n",
    "import random\n",
    "import matplotlib.pyplot as plt\n",
    "import pandas as pd\n",
    "import numpy as np\n",
    "import typing as T\n",
    "import re\n",
    "import numpy as np\n",
    "from dataclasses import dataclass\n",
    "\n",
    "from shared import bootstrap_accuracy, bootstrap_auc, dataset_local_path, simple_boxplot"
   ]
  },
  {
   "cell_type": "code",
   "execution_count": 20,
   "metadata": {},
   "outputs": [],
   "source": [
    "RAND = 123456\n",
    "random.seed(RAND)\n",
    "\n",
    "# Using 'pandas' to load data now:\n",
    "df: pd.DataFrame = pd.read_json(\n",
    "    dataset_local_path(\"lit-wiki-2020.jsonl.gz\"), lines=True\n",
    ")\n",
    "\n",
    "\n",
    "# Regular expresssions to grab parts of the text:\n",
    "WORDS = re.compile(r\"(\\w+)\")\n",
    "NUMBERS = re.compile(r\"(\\d+)\")\n",
    "\n",
    "\n",
    "def extract_features(row):\n",
    "    \"\"\"\n",
    "    Given the title and body of a Wikipedia article,\n",
    "    extract features that might be of use to the 'is literary' task.\n",
    "\n",
    "    Return named features in a dictionary.\n",
    "    \"\"\"\n",
    "    title = row[\"title\"].lower()\n",
    "    body = row[\"body\"]\n",
    "\n",
    "    new_features: T.Dict[str, T.Any] = {}\n",
    "    words = WORDS.findall(body)\n",
    "    numbers = [int(x) for x in NUMBERS.findall(body)]\n",
    "\n",
    "    new_features = {\n",
    "        \"disambig\": \"disambiguation\" in title,\n",
    "        \"page_rank\": row[\"page_rank\"],\n",
    "        \"length\": len(words),\n",
    "        \"18xx\": sum(1 for x in numbers if 1800 < x <= 1900),\n",
    "        'lit':'literary' in title\n",
    "#         \"random1\": random.random(),\n",
    "#         \"random2\": random.random(),\n",
    "#         \"random3\": random.random(),\n",
    "#         \"random4\": random.random(),\n",
    "    }\n",
    "    if len(numbers) > 0:\n",
    "        new_features[\"mean_n\"] = np.mean(numbers)\n",
    "        new_features[\"std_n\"] = np.std(numbers)\n",
    "\n",
    "    return new_features\n",
    "\n",
    "\n",
    "# right now each entry of the dataframe is a dictionary; json_normalize flattenst hat for us.\n",
    "designed_f = pd.json_normalize(df.apply(extract_features, axis=\"columns\"))"
   ]
  },
  {
   "cell_type": "code",
   "execution_count": 21,
   "metadata": {},
   "outputs": [],
   "source": [
    "#%%\n",
    "\n",
    "# Pandas lets us join really easily.\n",
    "features: pd.DataFrame = designed_f.join([df.truth_value])\n",
    "# It also lets us get rid of missing values really easily, too.\n",
    "features = features.fillna(0.0)"
   ]
  },
  {
   "cell_type": "code",
   "execution_count": 22,
   "metadata": {},
   "outputs": [],
   "source": [
    "#%%\n",
    "from sklearn.model_selection import train_test_split\n",
    "from sklearn.feature_extraction import DictVectorizer\n",
    "from sklearn.preprocessing import StandardScaler\n",
    "\n",
    "# split the whole dataframe (including y-values)\n",
    "tv_f, test_f = train_test_split(features, test_size=0.25, random_state=RAND)\n",
    "train_f, vali_f = train_test_split(tv_f, test_size=0.25, random_state=RAND)\n",
    "\n",
    "# feature numberer\n",
    "numberer = DictVectorizer(sparse=False)\n",
    "# feature scaling\n",
    "scaling = StandardScaler()\n",
    "\n",
    "\n",
    "def prepare_data(\n",
    "    df: pd.DataFrame, fit: bool = False\n",
    ") -> T.Tuple[np.ndarray, np.ndarray]:\n",
    "    \"\"\" This function converts a dataframe to an (X, y) tuple. It learns if fit=True.\"\"\"\n",
    "    global numeric, scaling\n",
    "    y = df.pop(\"truth_value\").values\n",
    "    # use fit_transform only on training data:\n",
    "    if fit:\n",
    "        return y, scaling.fit_transform(numberer.fit_transform(df.to_dict(\"records\")))\n",
    "    # use transform on vali & test:\n",
    "    return y, scaling.transform(\n",
    "        numberer.transform(df.to_dict(\"records\"))\n",
    "    )  # type:ignore\n",
    "\n",
    "\n",
    "# use the 'prepare_data' function right above here:\n",
    "train_y, train_X = prepare_data(train_f, fit=True)\n",
    "vali_y, vali_X = prepare_data(vali_f)\n",
    "test_y, test_X = prepare_data(test_f)"
   ]
  },
  {
   "cell_type": "code",
   "execution_count": 23,
   "metadata": {},
   "outputs": [
    {
     "data": {
      "image/png": "[encoded data removed]",
      "text/plain": [
       "<Figure size 432x288 with 1 Axes>"
      ]
     },
     "metadata": {
      "needs_background": "light"
     },
     "output_type": "display_data"
    },
    {
     "data": {
      "text/plain": [
       "<module 'matplotlib.pyplot' from '/Users/Alderik/anaconda3/lib/python3.7/site-packages/matplotlib/pyplot.py'>"
      ]
     },
     "execution_count": 23,
     "metadata": {},
     "output_type": "execute_result"
    }
   ],
   "source": [
    "#%%\n",
    "from sklearn.linear_model import SGDClassifier\n",
    "from sklearn.ensemble import RandomForestClassifier\n",
    "from sklearn.tree import DecisionTreeClassifier\n",
    "\n",
    "# Direct feature-importances (can think of them as how many times a feature was used):\n",
    "rf = RandomForestClassifier(random_state=RAND, n_estimators=100)\n",
    "rf.fit(train_X, train_y)\n",
    "\n",
    "# loop over each tree and ask them how important each feature was!\n",
    "importances = dict((name, []) for name in numberer.feature_names_)\n",
    "for tree in rf.estimators_:\n",
    "    for name, weight in zip(numberer.feature_names_, tree.feature_importances_):\n",
    "        importances[name].append(weight)\n",
    "\n",
    "# Think: what does 'how many splits' actually measure? Usefulness, or something else?\n",
    "simple_boxplot(\n",
    "    importances,\n",
    "    title=\"Tree Importances\",\n",
    "    ylabel=\"Decision Tree Criterion Importances\",\n",
    "    save=\"graphs/p10-tree-importances.png\",\n",
    ")"
   ]
  },
  {
   "cell_type": "code",
   "execution_count": 24,
   "metadata": {},
   "outputs": [
    {
     "name": "stdout",
     "output_type": "stream",
     "text": [
      "Full Model          \t0.742\tSGDClassifier(class_weight='balanced', random_state=123458)\n",
      "without 18xx        \t0.654\tSGDClassifier(class_weight='balanced', random_state=123460)\n",
      "without disambig    \t0.746\tSGDClassifier(class_weight='balanced', random_state=123460)\n",
      "without length      \t0.736\tSGDClassifier(class_weight='balanced', random_state=123457)\n",
      "without lit         \t0.742\tSGDClassifier(class_weight='balanced', random_state=123458)\n",
      "without mean_n      \t0.739\tSGDClassifier(class_weight='balanced', random_state=123459)\n",
      "without page_rank   \t0.741\tSGDClassifier(class_weight='balanced', random_state=123457)\n",
      "without std_n       \t0.742\tSGDClassifier(class_weight='balanced', random_state=123460)\n"
     ]
    }
   ],
   "source": [
    "#%%\n",
    "\n",
    "graphs: T.Dict[str, T.List[float]] = {}\n",
    "\n",
    "\n",
    "@dataclass\n",
    "class Model:\n",
    "    vali_score: float\n",
    "    m: T.Any\n",
    "\n",
    "\n",
    "def train_and_eval(name, x, y, vx, vy):\n",
    "    \"\"\" Train and Eval a single model. \"\"\"\n",
    "    options: T.List[Model] = []\n",
    "    for i in range(5):\n",
    "        m = SGDClassifier(class_weight=\"balanced\", random_state=RAND + i)\n",
    "        m.fit(x, y)\n",
    "        options.append(Model(m.score(vx, vy), m))\n",
    "\n",
    "    for d in range(3, 15):\n",
    "        m = DecisionTreeClassifier(\n",
    "            max_depth=d, class_weight=\"balanced\", random_state=RAND\n",
    "        )\n",
    "        m.fit(x, y)\n",
    "        options.append(Model(m.score(vx, vy), m))\n",
    "\n",
    "    # pick the best model:\n",
    "    best = max(options, key=lambda m: m.vali_score)\n",
    "    # bootstrap its output:\n",
    "    graphs[name] = bootstrap_accuracy(best.m, vx, vy)\n",
    "    # record our progress:\n",
    "    print(\"{:20}\\t{:.3}\\t{}\".format(name, np.mean(graphs[name]), best.m))\n",
    "\n",
    "\n",
    "train_and_eval(\"Full Model\", train_X, train_y, vali_X, vali_y)\n",
    "\n",
    "for fid, fname in enumerate(numberer.feature_names_):\n",
    "    # one-by-one, delete your features:\n",
    "    without_X = train_X.copy()\n",
    "    without_X[:, fid] = 0.0\n",
    "    # score a model without the feature to see if it __really__ helps or not:\n",
    "    train_and_eval(\"without {}\".format(fname), without_X, train_y, vali_X, vali_y)"
   ]
  },
  {
   "cell_type": "code",
   "execution_count": 25,
   "metadata": {},
   "outputs": [
    {
     "data": {
      "image/png": "[encoded data removed]",
      "text/plain": [
       "<Figure size 432x288 with 1 Axes>"
      ]
     },
     "metadata": {
      "needs_background": "light"
     },
     "output_type": "display_data"
    }
   ],
   "source": [
    "# Inline boxplot code here so we can sort by value:\n",
    "box_names = []\n",
    "box_dists = []\n",
    "for (k, v) in sorted(graphs.items(), key=lambda tup: np.mean(tup[1])):\n",
    "    box_names.append(k)\n",
    "    box_dists.append(v)\n",
    "\n",
    "# Matplotlib stuff:\n",
    "plt.boxplot(box_dists)\n",
    "plt.xticks(\n",
    "    rotation=30,\n",
    "    horizontalalignment=\"right\",\n",
    "    ticks=range(1, len(box_names) + 1),\n",
    "    labels=box_names,\n",
    ")\n",
    "plt.title(\"Feature Removal Analysis\")\n",
    "plt.xlabel(\"Included?\")\n",
    "plt.ylabel(\"AUC\")\n",
    "plt.tight_layout()\n",
    "plt.savefig(\"graphs/p10-feature-removal.png\")\n",
    "plt.show()"
   ]
  },
  {
   "cell_type": "markdown",
   "metadata": {},
   "source": [
    "# TODO: Try to engineer some features!\n",
    "\n",
    "### 1. Remove __obviously__ evil features (random1,random2,random3,random4)"
   ]
  },
  {
   "cell_type": "markdown",
   "metadata": {},
   "source": [
    "done"
   ]
  },
  {
   "cell_type": "markdown",
   "metadata": {},
   "source": [
    "### 2. Add some good features\n",
    "##### 2.1. See commented-out 18xx feature for ideas on how to use 'numbers'\n",
    "##### 2.2. 'List_of_...' pages aren't considered literary"
   ]
  },
  {
   "cell_type": "markdown",
   "metadata": {},
   "source": []
  },
  {
   "cell_type": "markdown",
   "metadata": {},
   "source": [
    "### 3. Remove bad features (that weren't as obvious!)\n",
    "### ... could adding a random feature help you here?\n",
    "\n",
    "### (optional). Consider improving ``train_and_eval`` to use more powerful models"
   ]
  },
  {
   "cell_type": "code",
   "execution_count": null,
   "metadata": {},
   "outputs": [],
   "source": []
  }
 ],
 "metadata": {
  "kernelspec": {
   "display_name": "Python 3",
   "language": "python",
   "name": "python3"
  },
  "language_info": {
   "codemirror_mode": {
    "name": "ipython",
    "version": 3
   },
   "file_extension": ".py",
   "mimetype": "text/x-python",
   "name": "python",
   "nbconvert_exporter": "python",
   "pygments_lexer": "ipython3",
   "version": "3.7.3"
  }
 },
 "nbformat": 4,
 "nbformat_minor": 2
}
